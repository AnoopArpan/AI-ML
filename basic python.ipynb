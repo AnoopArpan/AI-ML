{
 "cells": [
  {
   "cell_type": "code",
   "execution_count": 1,
   "id": "10d3b0d1-6894-44ba-a47c-08f435d87083",
   "metadata": {},
   "outputs": [
    {
     "data": {
      "text/plain": [
       "'hello world'"
      ]
     },
     "execution_count": 1,
     "metadata": {},
     "output_type": "execute_result"
    }
   ],
   "source": [
    "\"hello world\""
   ]
  },
  {
   "cell_type": "code",
   "execution_count": 2,
   "id": "55e3311a-14f9-44fd-ba8d-5eaf345014e7",
   "metadata": {},
   "outputs": [],
   "source": [
    "v=90\n",
    "v1=\"abc\"\n",
    "v2=90.67\n",
    "v3= True\n",
    "v4=6+9j"
   ]
  },
  {
   "cell_type": "code",
   "execution_count": 3,
   "id": "83849c86-23e6-41c9-bc5b-f79e424587da",
   "metadata": {},
   "outputs": [
    {
     "data": {
      "text/plain": [
       "'abc'"
      ]
     },
     "execution_count": 3,
     "metadata": {},
     "output_type": "execute_result"
    }
   ],
   "source": [
    "v1"
   ]
  },
  {
   "cell_type": "code",
   "execution_count": 4,
   "id": "3ff79f47-bded-4241-ad88-bea5247ac842",
   "metadata": {},
   "outputs": [
    {
     "data": {
      "text/plain": [
       "90.67"
      ]
     },
     "execution_count": 4,
     "metadata": {},
     "output_type": "execute_result"
    }
   ],
   "source": [
    "v2"
   ]
  },
  {
   "cell_type": "markdown",
   "id": "6acf7527-99b8-4999-ad97-f8de1634e7f0",
   "metadata": {},
   "source": [
    "#data structures\n",
    "-list\n",
    "-tuple\n",
    "-dictionary\n",
    "-set"
   ]
  },
  {
   "cell_type": "code",
   "execution_count": null,
   "id": "915d2e6b-51d4-494e-86a8-182c118252c2",
   "metadata": {},
   "outputs": [],
   "source": [
    "l1=[1,2,3,4,5,\"abc\"]\n",
    "l1[3]=6\n",
    "l1"
   ]
  },
  {
   "cell_type": "code",
   "execution_count": null,
   "id": "ee5ac7ac-3937-4a0e-b841-6f9b45c2128c",
   "metadata": {},
   "outputs": [],
   "source": [
    "l1.append(0)\n",
    "l1\n",
    "l1.insert(1,7)\n",
    "l1"
   ]
  },
  {
   "cell_type": "code",
   "execution_count": null,
   "id": "6a919644-b68c-41ba-a725-274074c7d600",
   "metadata": {},
   "outputs": [],
   "source": [
    "-append(add data in end )\n",
    "-extend(add data from  another data)\n",
    "-insert(insert data in given indexing)\n",
    "-remove(remove value)\n",
    "-pop(by defualt delete last element)\n",
    "-del(to delete entire list)\n",
    "-clear(clear data)"
   ]
  },
  {
   "cell_type": "code",
   "execution_count": null,
   "id": "c33ab8d1-2af5-4e19-a7ba-2a59ea79871e",
   "metadata": {},
   "outputs": [],
   "source": [
    "t1=(\"a\",\"b\",\"c\")\n",
    "t1[1]"
   ]
  },
  {
   "cell_type": "code",
   "execution_count": null,
   "id": "1625cf8d-cfb9-4561-969b-35e4bfd031b6",
   "metadata": {},
   "outputs": [],
   "source": [
    "type(t1)"
   ]
  },
  {
   "cell_type": "code",
   "execution_count": null,
   "id": "af061491-ff1d-47d3-98b2-d13f16b6b7bf",
   "metadata": {},
   "outputs": [],
   "source": [
    "max(t1)"
   ]
  },
  {
   "cell_type": "code",
   "execution_count": null,
   "id": "e9de537d-b7f4-4c54-b2ee-d918c7c48fcb",
   "metadata": {},
   "outputs": [],
   "source": [
    "min(t1)"
   ]
  },
  {
   "cell_type": "code",
   "execution_count": null,
   "id": "47f89638-2572-460d-b70f-2b01ca6dd6ab",
   "metadata": {},
   "outputs": [],
   "source": [
    "t2=(1,2,3)\n",
    "t1+t2"
   ]
  },
  {
   "cell_type": "code",
   "execution_count": null,
   "id": "d0ec37cc-93e3-4ccf-a2cc-a9788f613d99",
   "metadata": {},
   "outputs": [],
   "source": [
    "#dictionary"
   ]
  },
  {
   "cell_type": "code",
   "execution_count": null,
   "id": "f64dcb20-cd08-43ec-a331-7f44d4769e77",
   "metadata": {},
   "outputs": [],
   "source": [
    "dict1={\"a\":\"monday\",\"b\":\"tuesday\"}\n",
    "dict1"
   ]
  },
  {
   "cell_type": "code",
   "execution_count": null,
   "id": "b7b50dc8-74b4-4f02-8b8b-3731a55c83a1",
   "metadata": {},
   "outputs": [],
   "source": [
    "dict1[\"b\"]=\"wednesday\""
   ]
  },
  {
   "cell_type": "code",
   "execution_count": null,
   "id": "90c4355f-37fa-43cd-b0d6-11fcf5dd3dc3",
   "metadata": {},
   "outputs": [],
   "source": [
    "dict1"
   ]
  },
  {
   "cell_type": "code",
   "execution_count": null,
   "id": "63333b7a-dcf1-4896-a40e-21a07be017dd",
   "metadata": {},
   "outputs": [],
   "source": [
    "#set"
   ]
  },
  {
   "cell_type": "code",
   "execution_count": null,
   "id": "8a2e2641-ce0e-498a-8461-47e782885949",
   "metadata": {},
   "outputs": [],
   "source": [
    "s1={1,2,3,3,2,4}\n",
    "s1"
   ]
  },
  {
   "cell_type": "code",
   "execution_count": null,
   "id": "298dd944-78a7-489e-8e0c-28cc246d0cab",
   "metadata": {},
   "outputs": [],
   "source": [
    "s1.add(12)\n",
    "s1"
   ]
  },
  {
   "cell_type": "code",
   "execution_count": null,
   "id": "dc9d71b6-8414-4764-8526-193a6c11dbb7",
   "metadata": {},
   "outputs": [],
   "source": [
    "s1.add(10)"
   ]
  },
  {
   "cell_type": "code",
   "execution_count": null,
   "id": "daeffeef-3d64-492d-8b19-8d49ed8ab489",
   "metadata": {},
   "outputs": [],
   "source": [
    "s1"
   ]
  },
  {
   "cell_type": "code",
   "execution_count": null,
   "id": "1bdff01d-34c2-4107-8288-28446f29bd5c",
   "metadata": {},
   "outputs": [],
   "source": [
    "s1.remove(10)\n",
    "s1"
   ]
  },
  {
   "cell_type": "code",
   "execution_count": null,
   "id": "aa969d22-575b-40e2-b07b-8cbfd315da8a",
   "metadata": {},
   "outputs": [],
   "source": [
    "#methods of set\n",
    "-issuperset()\n",
    "-issubset()\n",
    "-union() |\n",
    "-intersection()&\n",
    "-difference() -\n",
    "-symmetric_difference() ^"
   ]
  },
  {
   "cell_type": "code",
   "execution_count": null,
   "id": "5cd5a514-2e1b-444e-b70c-45c0ca108026",
   "metadata": {},
   "outputs": [],
   "source": [
    "#control statements\n",
    "##conditional statement \n",
    "if\n",
    "elif\n",
    "if else\n",
    "nested if\n",
    "##loops\n",
    "while\n",
    "for\n",
    "##jump statement\n",
    "break\n",
    "continue\n",
    "pass"
   ]
  },
  {
   "cell_type": "code",
   "execution_count": null,
   "id": "582b0d1f-7751-48be-bb9d-7482d10f22f1",
   "metadata": {},
   "outputs": [],
   "source": [
    "age=int(input(\"Enter age:\"))\n",
    "if(age>=18):\n",
    "    print(\"you are eligible for voting\")\n",
    "else:\n",
    "    print(\"you are not eligible for voting\")\n",
    "    "
   ]
  },
  {
   "cell_type": "code",
   "execution_count": null,
   "id": "67d0f1dd-3159-4142-a6ca-9b0b28c11eff",
   "metadata": {},
   "outputs": [],
   "source": [
    "#find the largest number out of 3 no \n",
    "take user input"
   ]
  },
  {
   "cell_type": "code",
   "execution_count": null,
   "id": "59da9657-dbb0-4386-8cb7-2763a7becd41",
   "metadata": {},
   "outputs": [],
   "source": [
    "i1=int(input(\"no1\"))\n",
    "i2=int(input(\"no2\"))\n",
    "i3=int(input(\"no3\"))\n",
    "if(i1>i2):\n",
    "    if(i1>i3):\n",
    "        print(i1)\n",
    "    else:\n",
    "        print(i3)\n",
    "if(i1<i2):\n",
    "    if(i2>i3):\n",
    "        print(i2)\n",
    "    else:\n",
    "        print(i3)"
   ]
  },
  {
   "cell_type": "code",
   "execution_count": null,
   "id": "640e6b44-ee5d-42c6-9176-af9dbab34a46",
   "metadata": {},
   "outputs": [],
   "source": [
    "whether the entered no is a prime or not "
   ]
  },
  {
   "cell_type": "code",
   "execution_count": null,
   "id": "085253e0-b584-4178-9d61-5c1516468fe4",
   "metadata": {},
   "outputs": [],
   "source": [
    "no = int(input(\"Enter a number: \"))\n",
    "if (no <= 1):\n",
    "    print(\"Not a prime number\")\n",
    "else:\n",
    "    for i in range(2, no):\n",
    "        if (no % i == 0):\n",
    "            print(\"Not a prime number\")\n",
    "            break\n",
    "    else:\n",
    "        print(\"Prime number\")"
   ]
  },
  {
   "cell_type": "code",
   "execution_count": null,
   "id": "627d681b-7bb7-423e-8a27-449f3c608ffe",
   "metadata": {},
   "outputs": [],
   "source": [
    "for i in range(1,100,2):\n",
    "    print(i, end =',')"
   ]
  },
  {
   "cell_type": "code",
   "execution_count": null,
   "id": "12a0e5c9-767a-46fd-a253-2799c8c7126c",
   "metadata": {},
   "outputs": [],
   "source": [
    "st='Anoop'\n",
    "for i in st:\n",
    "    print(i)"
   ]
  },
  {
   "cell_type": "code",
   "execution_count": null,
   "id": "cf442e69-835c-4c1e-9d94-b21099c35e1e",
   "metadata": {},
   "outputs": [],
   "source": [
    "dict2={\"roll_no\":\"1\",\"name\":\"Neha\",\"email\":\"neha@gmail.com\"}\n",
    "#keys(for keys),values(for values),items(for both)\n",
    "for n,m in dict2.items():\n",
    "    print(n,\"=\",m)"
   ]
  },
  {
   "cell_type": "code",
   "execution_count": 3,
   "id": "056c0fde-ce4c-487f-8cfb-8d65888c6e3d",
   "metadata": {},
   "outputs": [
    {
     "name": "stdout",
     "output_type": "stream",
     "text": [
      "\n",
      "       enter 1 to print table\n",
      "       enter 0 to exit\n",
      "    \n"
     ]
    },
    {
     "name": "stdin",
     "output_type": "stream",
     "text": [
      "enter your choice: 1\n",
      "enter no: 2\n"
     ]
    },
    {
     "name": "stdout",
     "output_type": "stream",
     "text": [
      "2 x 1 = 2\n",
      "2 x 2 = 4\n",
      "2 x 3 = 6\n",
      "2 x 4 = 8\n",
      "2 x 5 = 10\n",
      "2 x 6 = 12\n",
      "2 x 7 = 14\n",
      "2 x 8 = 16\n",
      "2 x 9 = 18\n",
      "2 x 10 = 20\n"
     ]
    },
    {
     "name": "stdin",
     "output_type": "stream",
     "text": [
      "enter your choice: 3\n"
     ]
    },
    {
     "name": "stdout",
     "output_type": "stream",
     "text": [
      "invalid choice\n"
     ]
    },
    {
     "name": "stdin",
     "output_type": "stream",
     "text": [
      "enter your choice: 1\n",
      "enter no: 3\n"
     ]
    },
    {
     "name": "stdout",
     "output_type": "stream",
     "text": [
      "3 x 1 = 3\n",
      "3 x 2 = 6\n",
      "3 x 3 = 9\n",
      "3 x 4 = 12\n",
      "3 x 5 = 15\n",
      "3 x 6 = 18\n",
      "3 x 7 = 21\n",
      "3 x 8 = 24\n",
      "3 x 9 = 27\n",
      "3 x 10 = 30\n"
     ]
    },
    {
     "name": "stdin",
     "output_type": "stream",
     "text": [
      "enter your choice: 0\n"
     ]
    }
   ],
   "source": [
    "print('''\n",
    "       enter 1 to print table\n",
    "       enter 0 to exit\n",
    "    ''')\n",
    "\n",
    "while True:\n",
    "    ch=input(\"enter your choice:\")\n",
    "    if (ch==\"1\"):\n",
    "        num=int(input(\"enter no:\"))\n",
    "        for a in range(1,11):\n",
    "            print(num,\"x\",a,\"=\",num*a)\n",
    "    elif (ch==\"0\"):\n",
    "        break\n",
    "    else:\n",
    "        print(\"invalid choice\")\n",
    "    \n",
    "            "
   ]
  },
  {
   "cell_type": "code",
   "execution_count": 12,
   "id": "9ccc0b34-ecb1-46bb-8d12-47a49d8e8829",
   "metadata": {},
   "outputs": [
    {
     "name": "stdout",
     "output_type": "stream",
     "text": [
      "0\n",
      "1\n",
      "2\n",
      "3\n",
      "4\n",
      "6\n",
      "7\n",
      "8\n",
      "9\n"
     ]
    }
   ],
   "source": [
    "#continue and pass\n",
    "for i in range(10):\n",
    "    if(i==5):\n",
    "        continue\n",
    "    print(i)"
   ]
  },
  {
   "cell_type": "code",
   "execution_count": 36,
   "id": "8e5d873e-dfb5-4b0e-b70d-3f6ebe6537e3",
   "metadata": {},
   "outputs": [
    {
     "name": "stdin",
     "output_type": "stream",
     "text": [
      "enter number 1 2\n",
      "enter number 2 3\n",
      "enter operation 4\n"
     ]
    },
    {
     "name": "stdout",
     "output_type": "stream",
     "text": [
      "invalid operation\n"
     ]
    }
   ],
   "source": [
    "num1=int(input(\"enter number 1\"))\n",
    "num2=int(input(\"enter number 2\"))\n",
    "op=input(\"enter operation\")\n",
    "if(op==\"*\"):\n",
    "    print(num1*num2)\n",
    "elif(op==\"+\"):\n",
    "    print(num1+num2)\n",
    "elif(op==\"-\"):\n",
    "    print(num1-num2)\n",
    "else:\n",
    "    print(\"invalid operation\")"
   ]
  },
  {
   "cell_type": "code",
   "execution_count": 27,
   "id": "31615446-6140-406e-a85f-31252414db71",
   "metadata": {},
   "outputs": [
    {
     "name": "stdout",
     "output_type": "stream",
     "text": [
      "abc\n"
     ]
    }
   ],
   "source": [
    "#NON-PARA\n",
    "def fun1():\n",
    "    print(\"abc\")\n",
    "fun1()"
   ]
  },
  {
   "cell_type": "code",
   "execution_count": 37,
   "id": "fbf7dcb6-4c65-4e3e-aeab-f04bbc185cd3",
   "metadata": {},
   "outputs": [
    {
     "data": {
      "text/plain": [
       "11"
      ]
     },
     "execution_count": 37,
     "metadata": {},
     "output_type": "execute_result"
    }
   ],
   "source": [
    "#parameterized function\n",
    "#positional\n",
    "def add(a,b):\n",
    "    return a+b\n",
    "add(2,9)"
   ]
  },
  {
   "cell_type": "markdown",
   "id": "0295b835-fdef-45c9-901d-2c9b8f03d823",
   "metadata": {},
   "source": [
    "#types of arguments\n",
    "-positional\n",
    "-default\n",
    "-keyword\n",
    "-abb(var length)"
   ]
  },
  {
   "cell_type": "code",
   "execution_count": 41,
   "id": "ef358b80-9cf2-4532-819f-848dceeb49ef",
   "metadata": {},
   "outputs": [
    {
     "data": {
      "text/plain": [
       "5"
      ]
     },
     "execution_count": 41,
     "metadata": {},
     "output_type": "execute_result"
    }
   ],
   "source": [
    "#default\n",
    "def add(a=2,b=3):\n",
    "    return a+b\n",
    "add()"
   ]
  },
  {
   "cell_type": "code",
   "execution_count": 47,
   "id": "60ddbb32-a863-4c6c-8ea9-42d9911c17ca",
   "metadata": {},
   "outputs": [
    {
     "data": {
      "text/plain": [
       "12"
      ]
     },
     "execution_count": 47,
     "metadata": {},
     "output_type": "execute_result"
    }
   ],
   "source": [
    "#keyword\n",
    "def add(a,b):\n",
    "    return a+b\n",
    "add(9,b=3)"
   ]
  },
  {
   "cell_type": "code",
   "execution_count": 55,
   "id": "9ba47bce-b345-49be-af0f-4c0ca1dbeaa4",
   "metadata": {},
   "outputs": [
    {
     "data": {
      "text/plain": [
       "(2, 9, 9, 0)"
      ]
     },
     "execution_count": 55,
     "metadata": {},
     "output_type": "execute_result"
    }
   ],
   "source": [
    "#arbitary abb(var length)\n",
    "def add(*a):\n",
    "    return a\n",
    "add(2,9,9,0)"
   ]
  },
  {
   "cell_type": "code",
   "execution_count": 1,
   "id": "c78506be-aad6-49db-b3d8-9d5cbe17199b",
   "metadata": {},
   "outputs": [
    {
     "data": {
      "text/plain": [
       "(45, {'a': 2, 'b': 2})"
      ]
     },
     "execution_count": 1,
     "metadata": {},
     "output_type": "execute_result"
    }
   ],
   "source": [
    "#abb(var length) argument keyword \n",
    "def add(v,**a):    #return in dictionary\n",
    "    return v,a\n",
    "add(45,a=2,b=2)"
   ]
  },
  {
   "cell_type": "code",
   "execution_count": 20,
   "id": "b4c5436b-ff57-4b58-9c73-7d370f0a8b27",
   "metadata": {},
   "outputs": [],
   "source": [
    " class parent:\n",
    "     ##data member/attribute\n",
    "     a=90\n",
    "     b=\"string\"\n",
    "     ##member function /method\n",
    "     def working(s):  #mandatory parameter self/s/f/b\n",
    "         print(\"i am a class's method\")\n",
    "obj=parent()\n"
   ]
  },
  {
   "cell_type": "code",
   "execution_count": 21,
   "id": "98dbf03e-431d-4403-a221-b4ea006267d6",
   "metadata": {},
   "outputs": [
    {
     "data": {
      "text/plain": [
       "<__main__.parent at 0x22433b3bd40>"
      ]
     },
     "execution_count": 21,
     "metadata": {},
     "output_type": "execute_result"
    }
   ],
   "source": [
    "obj"
   ]
  },
  {
   "cell_type": "code",
   "execution_count": 22,
   "id": "71b2625f-ea9e-4aac-a8a5-42e2fd9b8322",
   "metadata": {},
   "outputs": [
    {
     "name": "stdout",
     "output_type": "stream",
     "text": [
      "i am a class's method\n"
     ]
    }
   ],
   "source": [
    "obj.working()"
   ]
  },
  {
   "cell_type": "code",
   "execution_count": null,
   "id": "c2a4db5b-9489-4378-be88-d34dc1c06759",
   "metadata": {},
   "outputs": [],
   "source": [
    "###oops\n",
    "-classes\n",
    "-objects\n",
    "-inheritance\n",
    "-polymorphism\n",
    "-encapsulation\n",
    "-abstraction"
   ]
  },
  {
   "cell_type": "code",
   "execution_count": null,
   "id": "abdba6b0-3dbb-430f-a705-b253ca27e28c",
   "metadata": {},
   "outputs": [],
   "source": [
    "###numpy\n",
    "nummeric python"
   ]
  },
  {
   "cell_type": "code",
   "execution_count": null,
   "id": "b7ea62e3-28b0-4801-af08-93700f6f2660",
   "metadata": {},
   "outputs": [],
   "source": [
    "-vector[1d array]\n",
    "-matrix[>1d array]"
   ]
  },
  {
   "cell_type": "code",
   "execution_count": null,
   "id": "15b8f48b-a5ad-431f-b17c-984de85962bc",
   "metadata": {},
   "outputs": [],
   "source": [
    "###1-d array"
   ]
  },
  {
   "cell_type": "code",
   "execution_count": 24,
   "id": "419163a4-06c1-46cd-b1df-96b3cdb49a38",
   "metadata": {},
   "outputs": [
    {
     "name": "stdout",
     "output_type": "stream",
     "text": [
      "Requirement already satisfied: numpy in c:\\users\\anoop arpan\\anaconda3\\lib\\site-packages (1.26.4)\n"
     ]
    }
   ],
   "source": [
    "!pip install numpy"
   ]
  },
  {
   "cell_type": "code",
   "execution_count": 25,
   "id": "3d0262e4-265b-41ef-8284-8d74484f37ac",
   "metadata": {},
   "outputs": [],
   "source": [
    "import numpy as np"
   ]
  },
  {
   "cell_type": "code",
   "execution_count": null,
   "id": "d0fe8eef-21b6-4b63-a880-d0af346c5bd6",
   "metadata": {},
   "outputs": [],
   "source": [
    "###methods to create an arrays\n",
    "-array() -list,tuple\n",
    "-arange() -create an array within a particular range\n",
    "-linspace() -provide no. of values within the range\n",
    "-ones() -provide ones array\n",
    "-zeroes()-provide zeroes array\n",
    "-eye() -provide identity matrix\n",
    "-random -rand,randint,uniform"
   ]
  },
  {
   "cell_type": "code",
   "execution_count": 43,
   "id": "7db5f81b-452b-4414-82e6-0c77bb4cc7c3",
   "metadata": {},
   "outputs": [
    {
     "name": "stdout",
     "output_type": "stream",
     "text": [
      "['abc' 'ccb' 'ccc' 'cdc' 'cce' 'cfc']\n"
     ]
    }
   ],
   "source": [
    "list1=['abc','ccb','ccc','cdc','cce','cfc']\n",
    "arr=np.array(list1)\n",
    "print(arr)"
   ]
  },
  {
   "cell_type": "code",
   "execution_count": 44,
   "id": "be0d04dc-5236-4343-905f-ab8fc7b81c9d",
   "metadata": {},
   "outputs": [
    {
     "data": {
      "text/plain": [
       "numpy.ndarray"
      ]
     },
     "execution_count": 44,
     "metadata": {},
     "output_type": "execute_result"
    }
   ],
   "source": [
    "type(arr)"
   ]
  },
  {
   "cell_type": "code",
   "execution_count": 45,
   "id": "50547cfb-f938-4d8d-8c5c-7b16d3ccce06",
   "metadata": {},
   "outputs": [
    {
     "data": {
      "text/plain": [
       "dtype('<U3')"
      ]
     },
     "execution_count": 45,
     "metadata": {},
     "output_type": "execute_result"
    }
   ],
   "source": [
    "arr.dtype"
   ]
  },
  {
   "cell_type": "code",
   "execution_count": 72,
   "id": "b0c8ce53-de5a-4bb6-9c13-77e407f1b07e",
   "metadata": {},
   "outputs": [
    {
     "name": "stdout",
     "output_type": "stream",
     "text": [
      "[[[[1 2 3]\n",
      "   [4 5 6]\n",
      "   [7 8 9]]\n",
      "\n",
      "  [[1 2 3]\n",
      "   [4 5 6]\n",
      "   [7 8 9]]]\n",
      "\n",
      "\n",
      " [[[1 2 3]\n",
      "   [4 5 6]\n",
      "   [7 8 9]]\n",
      "\n",
      "  [[1 2 3]\n",
      "   [4 5 6]\n",
      "   [7 8 9]]]]\n"
     ]
    }
   ],
   "source": [
    "list2=[[[[1,2,3],[4,5,6],[7,8,9]],[[1,2,3],[4,5,6],[7,8,9]]],[[[1,2,3],[4,5,6],[7,8,9]],[[1,2,3],[4,5,6],[7,8,9]]]]\n",
    "arr=np.array(list2)\n",
    "print(arr)"
   ]
  },
  {
   "cell_type": "markdown",
   "id": "78ff86f2-7511-4a2a-9863-11674640238e",
   "metadata": {},
   "source": [
    "arr2"
   ]
  },
  {
   "cell_type": "code",
   "execution_count": 73,
   "id": "34dc9567-a482-41f2-b72e-790ad2fb7709",
   "metadata": {},
   "outputs": [],
   "source": [
    "arr[1][1]=90"
   ]
  },
  {
   "cell_type": "code",
   "execution_count": 74,
   "id": "5043263f-7cc3-4092-96e0-7b9df0fcf3c0",
   "metadata": {},
   "outputs": [
    {
     "data": {
      "text/plain": [
       "array([[[[ 1,  2,  3],\n",
       "         [ 4,  5,  6],\n",
       "         [ 7,  8,  9]],\n",
       "\n",
       "        [[ 1,  2,  3],\n",
       "         [ 4,  5,  6],\n",
       "         [ 7,  8,  9]]],\n",
       "\n",
       "\n",
       "       [[[ 1,  2,  3],\n",
       "         [ 4,  5,  6],\n",
       "         [ 7,  8,  9]],\n",
       "\n",
       "        [[90, 90, 90],\n",
       "         [90, 90, 90],\n",
       "         [90, 90, 90]]]])"
      ]
     },
     "execution_count": 74,
     "metadata": {},
     "output_type": "execute_result"
    }
   ],
   "source": [
    "arr"
   ]
  },
  {
   "cell_type": "code",
   "execution_count": 75,
   "id": "483fb713-adf8-4d6b-97e2-3886b533994d",
   "metadata": {},
   "outputs": [
    {
     "data": {
      "text/plain": [
       "4"
      ]
     },
     "execution_count": 75,
     "metadata": {},
     "output_type": "execute_result"
    }
   ],
   "source": [
    "arr.ndim"
   ]
  },
  {
   "cell_type": "code",
   "execution_count": 76,
   "id": "ae8ca8c6-3a0c-4236-8a18-8aeae6e6d7bc",
   "metadata": {},
   "outputs": [
    {
     "data": {
      "text/plain": [
       "(2, 2, 3, 3)"
      ]
     },
     "execution_count": 76,
     "metadata": {},
     "output_type": "execute_result"
    }
   ],
   "source": [
    "arr.shape"
   ]
  },
  {
   "cell_type": "code",
   "execution_count": 60,
   "id": "3880623f-1496-4cd7-a6ba-180bc2855b54",
   "metadata": {},
   "outputs": [
    {
     "name": "stdout",
     "output_type": "stream",
     "text": [
      "[[1 1 1 1]\n",
      " [1 1 1 1]\n",
      " [1 1 1 1]]\n"
     ]
    }
   ],
   "source": [
    "###ones array\n",
    "arr3=np.ones((3,4),dtype='int')\n",
    "print(arr3) "
   ]
  },
  {
   "cell_type": "code",
   "execution_count": 61,
   "id": "ad70ad31-0168-4ef0-969f-8837e0ace9ba",
   "metadata": {},
   "outputs": [
    {
     "name": "stdout",
     "output_type": "stream",
     "text": [
      "[[0 0 0 0]\n",
      " [0 0 0 0]\n",
      " [0 0 0 0]]\n"
     ]
    }
   ],
   "source": [
    "arr3=np.zeros((3,4),dtype='int')\n",
    "print(arr3)"
   ]
  },
  {
   "cell_type": "code",
   "execution_count": 62,
   "id": "fb064b42-845e-4794-bde9-aac7963d9ad1",
   "metadata": {},
   "outputs": [
    {
     "name": "stdout",
     "output_type": "stream",
     "text": [
      "[[5 5 5 5]\n",
      " [5 5 5 5]\n",
      " [5 5 5 5]]\n"
     ]
    }
   ],
   "source": [
    "arr3=np.ones((3,4),dtype='int')*5\n",
    "print(arr3) "
   ]
  },
  {
   "cell_type": "code",
   "execution_count": null,
   "id": "a840bf79-88a0-465e-8aa9-538043d7f538",
   "metadata": {},
   "outputs": [],
   "source": [
    "##create an array--identity,arange,linspace"
   ]
  },
  {
   "cell_type": "code",
   "execution_count": 95,
   "id": "ce829d77-bc98-4e86-824a-bcbce9c474f7",
   "metadata": {},
   "outputs": [
    {
     "name": "stdout",
     "output_type": "stream",
     "text": [
      "[[5555    0    0    0    0]\n",
      " [   0 5555    0    0    0]\n",
      " [   0    0 5555    0    0]\n",
      " [   0    0    0 5555    0]\n",
      " [   0    0    0    0 5555]]\n"
     ]
    }
   ],
   "source": [
    "arr4=np.eye((5),dtype='int')*5555\n",
    "print(arr4)"
   ]
  },
  {
   "cell_type": "code",
   "execution_count": 102,
   "id": "c002eee6-6c99-4d81-9772-08f27287a51d",
   "metadata": {},
   "outputs": [
    {
     "name": "stdout",
     "output_type": "stream",
     "text": [
      "[1 2 3 4]\n"
     ]
    }
   ],
   "source": [
    "arr5=np.arange(1,5,dtype='int')\n",
    "print(arr5)"
   ]
  },
  {
   "cell_type": "code",
   "execution_count": 104,
   "id": "69e4f5b0-95bc-4010-bb69-c23a48cc7e99",
   "metadata": {},
   "outputs": [
    {
     "data": {
      "text/plain": [
       "array([[1, 2],\n",
       "       [3, 4]])"
      ]
     },
     "execution_count": 104,
     "metadata": {},
     "output_type": "execute_result"
    }
   ],
   "source": [
    "arr5.reshape(2,2)"
   ]
  },
  {
   "cell_type": "code",
   "execution_count": 110,
   "id": "e1ecac46-00d6-4042-8488-42c197b8c22b",
   "metadata": {},
   "outputs": [
    {
     "name": "stdout",
     "output_type": "stream",
     "text": [
      "[ 1.          1.49494949  1.98989899  2.48484848  2.97979798  3.47474747\n",
      "  3.96969697  4.46464646  4.95959596  5.45454545  5.94949495  6.44444444\n",
      "  6.93939394  7.43434343  7.92929293  8.42424242  8.91919192  9.41414141\n",
      "  9.90909091 10.4040404  10.8989899  11.39393939 11.88888889 12.38383838\n",
      " 12.87878788 13.37373737 13.86868687 14.36363636 14.85858586 15.35353535\n",
      " 15.84848485 16.34343434 16.83838384 17.33333333 17.82828283 18.32323232\n",
      " 18.81818182 19.31313131 19.80808081 20.3030303  20.7979798  21.29292929\n",
      " 21.78787879 22.28282828 22.77777778 23.27272727 23.76767677 24.26262626\n",
      " 24.75757576 25.25252525 25.74747475 26.24242424 26.73737374 27.23232323\n",
      " 27.72727273 28.22222222 28.71717172 29.21212121 29.70707071 30.2020202\n",
      " 30.6969697  31.19191919 31.68686869 32.18181818 32.67676768 33.17171717\n",
      " 33.66666667 34.16161616 34.65656566 35.15151515 35.64646465 36.14141414\n",
      " 36.63636364 37.13131313 37.62626263 38.12121212 38.61616162 39.11111111\n",
      " 39.60606061 40.1010101  40.5959596  41.09090909 41.58585859 42.08080808\n",
      " 42.57575758 43.07070707 43.56565657 44.06060606 44.55555556 45.05050505\n",
      " 45.54545455 46.04040404 46.53535354 47.03030303 47.52525253 48.02020202\n",
      " 48.51515152 49.01010101 49.50505051 50.        ]\n"
     ]
    }
   ],
   "source": [
    "arr6=np.linspace(1,50,100)\n",
    "print(arr6)"
   ]
  },
  {
   "cell_type": "code",
   "execution_count": 111,
   "id": "13f73499-5feb-46bd-b0cc-0717cdc513a3",
   "metadata": {},
   "outputs": [
    {
     "data": {
      "text/plain": [
       "100"
      ]
     },
     "execution_count": 111,
     "metadata": {},
     "output_type": "execute_result"
    }
   ],
   "source": [
    "arr6.size"
   ]
  },
  {
   "cell_type": "code",
   "execution_count": null,
   "id": "e5c41dab-b71c-48fc-b2a9-00d86bc57a22",
   "metadata": {},
   "outputs": [],
   "source": [
    "#random module\n",
    "-randint (provide a array of random integer in a specific range)\n",
    "-rand  (array of random number in between 0-1)\n",
    "-uniform (array of random decimal no. in a specific range)"
   ]
  },
  {
   "cell_type": "code",
   "execution_count": 2,
   "id": "490de356-bd24-44c9-a995-e8d8510d6c85",
   "metadata": {},
   "outputs": [],
   "source": [
    "import numpy as np"
   ]
  },
  {
   "cell_type": "code",
   "execution_count": 15,
   "id": "4e8277bc-fc09-451e-8f88-502abf3fa179",
   "metadata": {},
   "outputs": [
    {
     "data": {
      "text/plain": [
       "array([[[0.38652075, 0.81185274, 0.74925592, 0.26912436, 0.92835915],\n",
       "        [0.20791195, 0.17585855, 0.68907421, 0.22350641, 0.51631432],\n",
       "        [0.81366233, 0.00099344, 0.49987235, 0.12274643, 0.31078342],\n",
       "        [0.50056777, 0.4850314 , 0.05814769, 0.38283808, 0.79329711]],\n",
       "\n",
       "       [[0.46204249, 0.29994692, 0.53495383, 0.0215732 , 0.97676744],\n",
       "        [0.13143298, 0.51217006, 0.12690386, 0.77401976, 0.35435584],\n",
       "        [0.30814517, 0.28849338, 0.85079267, 0.4681978 , 0.210264  ],\n",
       "        [0.69967936, 0.02529054, 0.52737361, 0.38136483, 0.01954509]],\n",
       "\n",
       "       [[0.9081372 , 0.47709527, 0.64826496, 0.19228448, 0.295056  ],\n",
       "        [0.62937119, 0.58028764, 0.48419981, 0.10591579, 0.43465992],\n",
       "        [0.7574545 , 0.47093489, 0.57918352, 0.67071558, 0.50800867],\n",
       "        [0.01883207, 0.35953274, 0.24703677, 0.98646457, 0.0785738 ]]])"
      ]
     },
     "execution_count": 15,
     "metadata": {},
     "output_type": "execute_result"
    }
   ],
   "source": [
    "arr7=np.random.rand(3,4,5) #dimension,row,coloumn\n",
    "arr7"
   ]
  },
  {
   "cell_type": "code",
   "execution_count": 26,
   "id": "76a157aa-c9a9-433a-ae4a-2dc64eecb955",
   "metadata": {},
   "outputs": [
    {
     "data": {
      "text/plain": [
       "array([[4, 3, 5],\n",
       "       [8, 6, 5],\n",
       "       [6, 5, 5]])"
      ]
     },
     "execution_count": 26,
     "metadata": {},
     "output_type": "execute_result"
    }
   ],
   "source": [
    "arr8=np.random.randint(3,9,size=(3,3))\n",
    "arr8"
   ]
  },
  {
   "cell_type": "code",
   "execution_count": 27,
   "id": "b1c015ea-54e6-4ff0-8936-dbde061df9d1",
   "metadata": {},
   "outputs": [],
   "source": [
    "import numpy.random as rd\n",
    "#or from numpy import random as rd"
   ]
  },
  {
   "cell_type": "code",
   "execution_count": 32,
   "id": "d5094f6a-c260-4d4b-aed4-954a023fe488",
   "metadata": {},
   "outputs": [
    {
     "data": {
      "text/plain": [
       "array([[7.00191389, 9.47149862, 7.70739616, 6.82091985],\n",
       "       [4.29838191, 2.85805896, 1.41205369, 1.2128641 ],\n",
       "       [0.29941564, 0.64152019, 7.21148122, 2.57142375],\n",
       "       [8.86499138, 4.27856891, 0.12568984, 6.95115873]])"
      ]
     },
     "execution_count": 32,
     "metadata": {},
     "output_type": "execute_result"
    }
   ],
   "source": [
    "arr9=rd.uniform(0,10,size=(4,4))\n",
    "arr9"
   ]
  },
  {
   "cell_type": "code",
   "execution_count": null,
   "id": "65f736c2-3615-4dac-83a9-10bdb44e3201",
   "metadata": {},
   "outputs": [],
   "source": [
    "#array operation\n",
    "-sum()\n",
    "-min()\n",
    "-max()\n",
    "-sqrt()\n",
    "-mean()\n",
    "-std()\n",
    "-argmax()"
   ]
  },
  {
   "cell_type": "code",
   "execution_count": 33,
   "id": "e01b2113-e225-4b70-b607-da7dfa7e99b2",
   "metadata": {},
   "outputs": [
    {
     "name": "stdout",
     "output_type": "stream",
     "text": [
      "[[1 2 3]\n",
      " [4 5 6]\n",
      " [7 8 9]]\n"
     ]
    }
   ],
   "source": [
    "arr10=np.array([[1,2,3],[4,5,6],[7,8,9]])\n",
    "print(arr10)"
   ]
  },
  {
   "cell_type": "code",
   "execution_count": 34,
   "id": "7af8a22b-a08d-4ccf-a3ee-1eeac2235f94",
   "metadata": {},
   "outputs": [
    {
     "data": {
      "text/plain": [
       "45"
      ]
     },
     "execution_count": 34,
     "metadata": {},
     "output_type": "execute_result"
    }
   ],
   "source": [
    "np.sum(arr10)"
   ]
  },
  {
   "cell_type": "code",
   "execution_count": 35,
   "id": "82d3ad17-0846-4130-8836-e1a40a54e4a7",
   "metadata": {},
   "outputs": [
    {
     "data": {
      "text/plain": [
       "45"
      ]
     },
     "execution_count": 35,
     "metadata": {},
     "output_type": "execute_result"
    }
   ],
   "source": [
    "arr10.sum()"
   ]
  },
  {
   "cell_type": "code",
   "execution_count": 40,
   "id": "fd4c861e-9dcb-4cd1-8149-6eec4fc35ac5",
   "metadata": {},
   "outputs": [
    {
     "data": {
      "text/plain": [
       "array([ 6, 15, 24])"
      ]
     },
     "execution_count": 40,
     "metadata": {},
     "output_type": "execute_result"
    }
   ],
   "source": [
    "arr10.sum(1) #0 for along  coloumn and 1 for along row "
   ]
  },
  {
   "cell_type": "code",
   "execution_count": 41,
   "id": "f3929045-72b3-4bed-b4ff-108ae2e33b57",
   "metadata": {},
   "outputs": [
    {
     "data": {
      "text/plain": [
       "1"
      ]
     },
     "execution_count": 41,
     "metadata": {},
     "output_type": "execute_result"
    }
   ],
   "source": [
    "arr10.min()"
   ]
  },
  {
   "cell_type": "code",
   "execution_count": 44,
   "id": "29bd70f9-d2cd-4942-95f2-6f947ae4cffc",
   "metadata": {},
   "outputs": [
    {
     "data": {
      "text/plain": [
       "array([1, 4, 7])"
      ]
     },
     "execution_count": 44,
     "metadata": {},
     "output_type": "execute_result"
    }
   ],
   "source": [
    "arr10.min(1) #0 for along  coloumn and 1 for along row "
   ]
  },
  {
   "cell_type": "code",
   "execution_count": 45,
   "id": "3f081fdd-a0f0-4ff8-b2ee-9d69cee19a17",
   "metadata": {},
   "outputs": [
    {
     "data": {
      "text/plain": [
       "2.581988897471611"
      ]
     },
     "execution_count": 45,
     "metadata": {},
     "output_type": "execute_result"
    }
   ],
   "source": [
    "arr10.std()"
   ]
  },
  {
   "cell_type": "code",
   "execution_count": null,
   "id": "2464dc15-807a-47df-8a7e-f7058e9ce06c",
   "metadata": {},
   "outputs": [],
   "source": [
    "#check mean ,mean along rows and coloumns, sqrt"
   ]
  },
  {
   "cell_type": "code",
   "execution_count": 47,
   "id": "d836b61b-319a-4341-aa2d-64ca156afab8",
   "metadata": {},
   "outputs": [
    {
     "data": {
      "text/plain": [
       "5.0"
      ]
     },
     "execution_count": 47,
     "metadata": {},
     "output_type": "execute_result"
    }
   ],
   "source": [
    "arr10.mean()"
   ]
  },
  {
   "cell_type": "code",
   "execution_count": 49,
   "id": "efaf402a-0e82-4b41-a3ab-55e26a7bd4c9",
   "metadata": {},
   "outputs": [
    {
     "data": {
      "text/plain": [
       "array([2., 5., 8.])"
      ]
     },
     "execution_count": 49,
     "metadata": {},
     "output_type": "execute_result"
    }
   ],
   "source": [
    "arr10.mean(1)"
   ]
  },
  {
   "cell_type": "code",
   "execution_count": 50,
   "id": "6625f85b-46dd-4005-993a-bbd2dac54a47",
   "metadata": {},
   "outputs": [
    {
     "data": {
      "text/plain": [
       "array([4., 5., 6.])"
      ]
     },
     "execution_count": 50,
     "metadata": {},
     "output_type": "execute_result"
    }
   ],
   "source": [
    "arr10.mean(0)"
   ]
  },
  {
   "cell_type": "code",
   "execution_count": 52,
   "id": "5d9415f5-307f-41af-9fe8-13004a9973be",
   "metadata": {},
   "outputs": [
    {
     "data": {
      "text/plain": [
       "array([[1.        , 1.41421356, 1.73205081],\n",
       "       [2.        , 2.23606798, 2.44948974],\n",
       "       [2.64575131, 2.82842712, 3.        ]])"
      ]
     },
     "execution_count": 52,
     "metadata": {},
     "output_type": "execute_result"
    }
   ],
   "source": [
    "np.sqrt(arr10)"
   ]
  },
  {
   "cell_type": "code",
   "execution_count": 55,
   "id": "3cb15a37-5b0f-4e5d-b477-130eba5e0e78",
   "metadata": {},
   "outputs": [
    {
     "data": {
      "text/plain": [
       "0"
      ]
     },
     "execution_count": 55,
     "metadata": {},
     "output_type": "execute_result"
    }
   ],
   "source": [
    "arr10.argmin()"
   ]
  },
  {
   "cell_type": "code",
   "execution_count": 56,
   "id": "8b63f065-254f-4692-b7ba-55198b7ca8fb",
   "metadata": {},
   "outputs": [
    {
     "data": {
      "text/plain": [
       "8"
      ]
     },
     "execution_count": 56,
     "metadata": {},
     "output_type": "execute_result"
    }
   ],
   "source": [
    "arr10.argmax()"
   ]
  },
  {
   "cell_type": "code",
   "execution_count": 57,
   "id": "bf8497a8-fb39-4a45-a866-ed81a846bf3d",
   "metadata": {},
   "outputs": [],
   "source": [
    "###Pandas\n",
    "-series (1d data)\n",
    "-dataframe (2d data)"
   ]
  },
  {
   "cell_type": "code",
   "execution_count": 58,
   "id": "318b2bb7-4ce8-4933-a141-d93f4644acad",
   "metadata": {},
   "outputs": [
    {
     "name": "stdout",
     "output_type": "stream",
     "text": [
      "Requirement already satisfied: pandas in c:\\users\\anoop arpan\\anaconda3\\lib\\site-packages (2.2.2)\n",
      "Requirement already satisfied: numpy>=1.26.0 in c:\\users\\anoop arpan\\anaconda3\\lib\\site-packages (from pandas) (1.26.4)\n",
      "Requirement already satisfied: python-dateutil>=2.8.2 in c:\\users\\anoop arpan\\anaconda3\\lib\\site-packages (from pandas) (2.9.0.post0)\n",
      "Requirement already satisfied: pytz>=2020.1 in c:\\users\\anoop arpan\\anaconda3\\lib\\site-packages (from pandas) (2024.1)\n",
      "Requirement already satisfied: tzdata>=2022.7 in c:\\users\\anoop arpan\\anaconda3\\lib\\site-packages (from pandas) (2023.3)\n",
      "Requirement already satisfied: six>=1.5 in c:\\users\\anoop arpan\\anaconda3\\lib\\site-packages (from python-dateutil>=2.8.2->pandas) (1.16.0)\n"
     ]
    }
   ],
   "source": [
    "!pip install pandas"
   ]
  },
  {
   "cell_type": "code",
   "execution_count": 68,
   "id": "d655c49d-1c27-43ab-8178-5871624f2566",
   "metadata": {},
   "outputs": [],
   "source": [
    "import pandas as pd"
   ]
  },
  {
   "cell_type": "code",
   "execution_count": 72,
   "id": "0a7b952b-37d0-43f6-956b-dbde39fb76ec",
   "metadata": {},
   "outputs": [
    {
     "name": "stdout",
     "output_type": "stream",
     "text": [
      "0    1\n",
      "1    2\n",
      "2    3\n",
      "3    4\n",
      "4    5\n",
      "5    6\n",
      "6    7\n",
      "dtype: int64\n"
     ]
    }
   ],
   "source": [
    "list11=[1,2,3,4,5,6,7]\n",
    "sr=pd.Series(list11) \n",
    "print(sr)"
   ]
  },
  {
   "cell_type": "code",
   "execution_count": 73,
   "id": "ad9be642-2755-4da8-aba0-8da34a9a5b94",
   "metadata": {},
   "outputs": [
    {
     "name": "stdout",
     "output_type": "stream",
     "text": [
      "   0\n",
      "0  1\n",
      "1  2\n",
      "2  3\n",
      "3  4\n",
      "4  5\n",
      "5  6\n",
      "6  7\n"
     ]
    }
   ],
   "source": [
    "df=sr.to_frame()\n",
    "print(df)"
   ]
  },
  {
   "cell_type": "code",
   "execution_count": null,
   "id": "5360a76b-6881-4d40-9ff6-61a84a6a56bc",
   "metadata": {},
   "outputs": [],
   "source": [
    "###methods to create dataframe\n",
    "-list of lists\n",
    "-list of tuple\n",
    "-tuple of tuples\n",
    "-tuple pf lists\n",
    "-list of dictionary\n",
    "-dictionary of lists\n",
    "-read_excel()\n",
    "-read_csv()\n",
    "-read_json()\n",
    "-json_normalize\n",
    "-read_html()"
   ]
  },
  {
   "cell_type": "code",
   "execution_count": 81,
   "id": "20639076-1593-4e71-b70d-d69de9f3603d",
   "metadata": {},
   "outputs": [],
   "source": [
    "dict23={\n",
    "      \"Temp\":[12,34,56,21,0],\n",
    "      \"Hum\":[45,33,12,22,12],\n",
    "      \"Events\":[\"Rainy\",\"Sunny\",\"Sunny\",\"Cloudy\",\"Snow\"]\n",
    "}"
   ]
  },
  {
   "cell_type": "code",
   "execution_count": 89,
   "id": "dc5eed92-7041-45cf-aa79-c2414a0befc7",
   "metadata": {
    "scrolled": true
   },
   "outputs": [
    {
     "name": "stdout",
     "output_type": "stream",
     "text": [
      "   Temp  Hum  Events\n",
      "0    12   45   Rainy\n",
      "1    34   33   Sunny\n",
      "2    56   12   Sunny\n",
      "3    21   22  Cloudy\n",
      "4     0   12    Snow\n"
     ]
    }
   ],
   "source": [
    "weather=pd.DataFrame(dict23) \n",
    "print(weather)"
   ]
  },
  {
   "cell_type": "code",
   "execution_count": 87,
   "id": "2c54f321-b9d0-4362-a2ce-979cc993f311",
   "metadata": {},
   "outputs": [],
   "source": [
    "list23=[\n",
    "    [12,45,\"Rainy\"],\n",
    "    [34,33,\"Sunny\"]\n",
    "]"
   ]
  },
  {
   "cell_type": "code",
   "execution_count": 95,
   "id": "501ab4d0-0002-4e76-a6b4-d568314ee13b",
   "metadata": {},
   "outputs": [
    {
     "name": "stdout",
     "output_type": "stream",
     "text": [
      "   Temp  Hum  Event\n",
      "0    12   45  Rainy\n",
      "1    34   33  Sunny\n"
     ]
    }
   ],
   "source": [
    "df1=pd.DataFrame(list23,columns=[\"Temp\",\"Hum\",\"Event\"])\n",
    "print(df1)"
   ]
  },
  {
   "cell_type": "code",
   "execution_count": 96,
   "id": "66748ca2-f8f0-46c9-b5a5-b7eb498cb5fe",
   "metadata": {},
   "outputs": [
    {
     "name": "stdout",
     "output_type": "stream",
     "text": [
      "Collecting html5lib\n",
      "  Downloading html5lib-1.1-py2.py3-none-any.whl.metadata (16 kB)\n",
      "Requirement already satisfied: six>=1.9 in c:\\users\\anoop arpan\\anaconda3\\lib\\site-packages (from html5lib) (1.16.0)\n",
      "Requirement already satisfied: webencodings in c:\\users\\anoop arpan\\anaconda3\\lib\\site-packages (from html5lib) (0.5.1)\n",
      "Downloading html5lib-1.1-py2.py3-none-any.whl (112 kB)\n",
      "Installing collected packages: html5lib\n",
      "Successfully installed html5lib-1.1\n"
     ]
    }
   ],
   "source": [
    "!pip install html5lib"
   ]
  },
  {
   "cell_type": "code",
   "execution_count": 109,
   "id": "f8541661-56d5-4f37-8603-a885bfa5ad96",
   "metadata": {},
   "outputs": [],
   "source": [
    "html=pd.read_html(\"https://en.wikipedia.org/wiki/Economy_of_India\")\n",
    "df4=html[3]"
   ]
  },
  {
   "cell_type": "code",
   "execution_count": 110,
   "id": "eee539d7-a340-4762-9ce9-8901800033c0",
   "metadata": {},
   "outputs": [],
   "source": [
    "df4.to_csv(\"economy.csv\")"
   ]
  },
  {
   "cell_type": "code",
   "execution_count": 119,
   "id": "a1634b5c-e309-4587-b2d1-fcf0190adb89",
   "metadata": {},
   "outputs": [
    {
     "data": {
      "text/html": [
       "<div>\n",
       "<style scoped>\n",
       "    .dataframe tbody tr th:only-of-type {\n",
       "        vertical-align: middle;\n",
       "    }\n",
       "\n",
       "    .dataframe tbody tr th {\n",
       "        vertical-align: top;\n",
       "    }\n",
       "\n",
       "    .dataframe thead th {\n",
       "        text-align: right;\n",
       "    }\n",
       "</style>\n",
       "<table border=\"1\" class=\"dataframe\">\n",
       "  <thead>\n",
       "    <tr style=\"text-align: right;\">\n",
       "      <th></th>\n",
       "      <th>YearsExperience</th>\n",
       "      <th>Age</th>\n",
       "      <th>Salary</th>\n",
       "    </tr>\n",
       "  </thead>\n",
       "  <tbody>\n",
       "    <tr>\n",
       "      <th>0</th>\n",
       "      <td>1.1</td>\n",
       "      <td>21.0</td>\n",
       "      <td>39343</td>\n",
       "    </tr>\n",
       "    <tr>\n",
       "      <th>1</th>\n",
       "      <td>1.3</td>\n",
       "      <td>21.5</td>\n",
       "      <td>46205</td>\n",
       "    </tr>\n",
       "    <tr>\n",
       "      <th>2</th>\n",
       "      <td>1.5</td>\n",
       "      <td>21.7</td>\n",
       "      <td>37731</td>\n",
       "    </tr>\n",
       "    <tr>\n",
       "      <th>3</th>\n",
       "      <td>2.0</td>\n",
       "      <td>22.0</td>\n",
       "      <td>43525</td>\n",
       "    </tr>\n",
       "    <tr>\n",
       "      <th>4</th>\n",
       "      <td>2.2</td>\n",
       "      <td>22.2</td>\n",
       "      <td>39891</td>\n",
       "    </tr>\n",
       "    <tr>\n",
       "      <th>5</th>\n",
       "      <td>2.9</td>\n",
       "      <td>23.0</td>\n",
       "      <td>56642</td>\n",
       "    </tr>\n",
       "    <tr>\n",
       "      <th>6</th>\n",
       "      <td>3.0</td>\n",
       "      <td>23.0</td>\n",
       "      <td>60150</td>\n",
       "    </tr>\n",
       "    <tr>\n",
       "      <th>7</th>\n",
       "      <td>3.2</td>\n",
       "      <td>23.3</td>\n",
       "      <td>54445</td>\n",
       "    </tr>\n",
       "    <tr>\n",
       "      <th>8</th>\n",
       "      <td>3.2</td>\n",
       "      <td>23.3</td>\n",
       "      <td>64445</td>\n",
       "    </tr>\n",
       "    <tr>\n",
       "      <th>9</th>\n",
       "      <td>3.7</td>\n",
       "      <td>23.6</td>\n",
       "      <td>57189</td>\n",
       "    </tr>\n",
       "    <tr>\n",
       "      <th>10</th>\n",
       "      <td>3.9</td>\n",
       "      <td>23.9</td>\n",
       "      <td>63218</td>\n",
       "    </tr>\n",
       "    <tr>\n",
       "      <th>11</th>\n",
       "      <td>4.0</td>\n",
       "      <td>24.0</td>\n",
       "      <td>55794</td>\n",
       "    </tr>\n",
       "    <tr>\n",
       "      <th>12</th>\n",
       "      <td>4.0</td>\n",
       "      <td>24.0</td>\n",
       "      <td>56957</td>\n",
       "    </tr>\n",
       "    <tr>\n",
       "      <th>13</th>\n",
       "      <td>4.1</td>\n",
       "      <td>24.0</td>\n",
       "      <td>57081</td>\n",
       "    </tr>\n",
       "    <tr>\n",
       "      <th>14</th>\n",
       "      <td>4.5</td>\n",
       "      <td>25.0</td>\n",
       "      <td>61111</td>\n",
       "    </tr>\n",
       "    <tr>\n",
       "      <th>15</th>\n",
       "      <td>4.9</td>\n",
       "      <td>25.0</td>\n",
       "      <td>67938</td>\n",
       "    </tr>\n",
       "    <tr>\n",
       "      <th>16</th>\n",
       "      <td>5.1</td>\n",
       "      <td>26.0</td>\n",
       "      <td>66029</td>\n",
       "    </tr>\n",
       "    <tr>\n",
       "      <th>17</th>\n",
       "      <td>5.3</td>\n",
       "      <td>27.0</td>\n",
       "      <td>83088</td>\n",
       "    </tr>\n",
       "    <tr>\n",
       "      <th>18</th>\n",
       "      <td>5.9</td>\n",
       "      <td>28.0</td>\n",
       "      <td>81363</td>\n",
       "    </tr>\n",
       "    <tr>\n",
       "      <th>19</th>\n",
       "      <td>6.0</td>\n",
       "      <td>29.0</td>\n",
       "      <td>93940</td>\n",
       "    </tr>\n",
       "    <tr>\n",
       "      <th>20</th>\n",
       "      <td>6.8</td>\n",
       "      <td>30.0</td>\n",
       "      <td>91738</td>\n",
       "    </tr>\n",
       "    <tr>\n",
       "      <th>21</th>\n",
       "      <td>7.1</td>\n",
       "      <td>30.0</td>\n",
       "      <td>98273</td>\n",
       "    </tr>\n",
       "    <tr>\n",
       "      <th>22</th>\n",
       "      <td>7.9</td>\n",
       "      <td>31.0</td>\n",
       "      <td>101302</td>\n",
       "    </tr>\n",
       "    <tr>\n",
       "      <th>23</th>\n",
       "      <td>8.2</td>\n",
       "      <td>32.0</td>\n",
       "      <td>113812</td>\n",
       "    </tr>\n",
       "    <tr>\n",
       "      <th>24</th>\n",
       "      <td>8.7</td>\n",
       "      <td>33.0</td>\n",
       "      <td>109431</td>\n",
       "    </tr>\n",
       "    <tr>\n",
       "      <th>25</th>\n",
       "      <td>9.0</td>\n",
       "      <td>34.0</td>\n",
       "      <td>105582</td>\n",
       "    </tr>\n",
       "    <tr>\n",
       "      <th>26</th>\n",
       "      <td>9.5</td>\n",
       "      <td>35.0</td>\n",
       "      <td>116969</td>\n",
       "    </tr>\n",
       "    <tr>\n",
       "      <th>27</th>\n",
       "      <td>9.6</td>\n",
       "      <td>36.0</td>\n",
       "      <td>112635</td>\n",
       "    </tr>\n",
       "    <tr>\n",
       "      <th>28</th>\n",
       "      <td>10.3</td>\n",
       "      <td>37.0</td>\n",
       "      <td>122391</td>\n",
       "    </tr>\n",
       "    <tr>\n",
       "      <th>29</th>\n",
       "      <td>10.5</td>\n",
       "      <td>38.0</td>\n",
       "      <td>121872</td>\n",
       "    </tr>\n",
       "  </tbody>\n",
       "</table>\n",
       "</div>"
      ],
      "text/plain": [
       "    YearsExperience   Age  Salary\n",
       "0               1.1  21.0   39343\n",
       "1               1.3  21.5   46205\n",
       "2               1.5  21.7   37731\n",
       "3               2.0  22.0   43525\n",
       "4               2.2  22.2   39891\n",
       "5               2.9  23.0   56642\n",
       "6               3.0  23.0   60150\n",
       "7               3.2  23.3   54445\n",
       "8               3.2  23.3   64445\n",
       "9               3.7  23.6   57189\n",
       "10              3.9  23.9   63218\n",
       "11              4.0  24.0   55794\n",
       "12              4.0  24.0   56957\n",
       "13              4.1  24.0   57081\n",
       "14              4.5  25.0   61111\n",
       "15              4.9  25.0   67938\n",
       "16              5.1  26.0   66029\n",
       "17              5.3  27.0   83088\n",
       "18              5.9  28.0   81363\n",
       "19              6.0  29.0   93940\n",
       "20              6.8  30.0   91738\n",
       "21              7.1  30.0   98273\n",
       "22              7.9  31.0  101302\n",
       "23              8.2  32.0  113812\n",
       "24              8.7  33.0  109431\n",
       "25              9.0  34.0  105582\n",
       "26              9.5  35.0  116969\n",
       "27              9.6  36.0  112635\n",
       "28             10.3  37.0  122391\n",
       "29             10.5  38.0  121872"
      ]
     },
     "execution_count": 119,
     "metadata": {},
     "output_type": "execute_result"
    }
   ],
   "source": [
    "csv=pd.read_csv(r\"C:\\Users\\Anoop Arpan\\Downloads\\Salary_Data.csv\")\n",
    "csv"
   ]
  },
  {
   "cell_type": "code",
   "execution_count": 124,
   "id": "f6090937-a5cc-4b93-9bd9-bc39a3338bd5",
   "metadata": {},
   "outputs": [
    {
     "data": {
      "text/html": [
       "<div>\n",
       "<style scoped>\n",
       "    .dataframe tbody tr th:only-of-type {\n",
       "        vertical-align: middle;\n",
       "    }\n",
       "\n",
       "    .dataframe tbody tr th {\n",
       "        vertical-align: top;\n",
       "    }\n",
       "\n",
       "    .dataframe thead th {\n",
       "        text-align: right;\n",
       "    }\n",
       "</style>\n",
       "<table border=\"1\" class=\"dataframe\">\n",
       "  <thead>\n",
       "    <tr style=\"text-align: right;\">\n",
       "      <th></th>\n",
       "      <th>YearsExperience</th>\n",
       "      <th>Age</th>\n",
       "      <th>Salary</th>\n",
       "    </tr>\n",
       "  </thead>\n",
       "  <tbody>\n",
       "    <tr>\n",
       "      <th>0</th>\n",
       "      <td>1.1</td>\n",
       "      <td>21.0</td>\n",
       "      <td>39343</td>\n",
       "    </tr>\n",
       "    <tr>\n",
       "      <th>1</th>\n",
       "      <td>1.3</td>\n",
       "      <td>21.5</td>\n",
       "      <td>46205</td>\n",
       "    </tr>\n",
       "    <tr>\n",
       "      <th>2</th>\n",
       "      <td>1.5</td>\n",
       "      <td>21.7</td>\n",
       "      <td>37731</td>\n",
       "    </tr>\n",
       "    <tr>\n",
       "      <th>3</th>\n",
       "      <td>2.0</td>\n",
       "      <td>22.0</td>\n",
       "      <td>43525</td>\n",
       "    </tr>\n",
       "    <tr>\n",
       "      <th>4</th>\n",
       "      <td>2.2</td>\n",
       "      <td>22.2</td>\n",
       "      <td>39891</td>\n",
       "    </tr>\n",
       "    <tr>\n",
       "      <th>5</th>\n",
       "      <td>2.9</td>\n",
       "      <td>23.0</td>\n",
       "      <td>56642</td>\n",
       "    </tr>\n",
       "    <tr>\n",
       "      <th>6</th>\n",
       "      <td>3.0</td>\n",
       "      <td>23.0</td>\n",
       "      <td>60150</td>\n",
       "    </tr>\n",
       "    <tr>\n",
       "      <th>7</th>\n",
       "      <td>3.2</td>\n",
       "      <td>23.3</td>\n",
       "      <td>54445</td>\n",
       "    </tr>\n",
       "    <tr>\n",
       "      <th>8</th>\n",
       "      <td>3.2</td>\n",
       "      <td>23.3</td>\n",
       "      <td>64445</td>\n",
       "    </tr>\n",
       "    <tr>\n",
       "      <th>9</th>\n",
       "      <td>3.7</td>\n",
       "      <td>23.6</td>\n",
       "      <td>57189</td>\n",
       "    </tr>\n",
       "  </tbody>\n",
       "</table>\n",
       "</div>"
      ],
      "text/plain": [
       "   YearsExperience   Age  Salary\n",
       "0              1.1  21.0   39343\n",
       "1              1.3  21.5   46205\n",
       "2              1.5  21.7   37731\n",
       "3              2.0  22.0   43525\n",
       "4              2.2  22.2   39891\n",
       "5              2.9  23.0   56642\n",
       "6              3.0  23.0   60150\n",
       "7              3.2  23.3   54445\n",
       "8              3.2  23.3   64445\n",
       "9              3.7  23.6   57189"
      ]
     },
     "execution_count": 124,
     "metadata": {},
     "output_type": "execute_result"
    }
   ],
   "source": [
    "csv.head(10)"
   ]
  },
  {
   "cell_type": "code",
   "execution_count": 125,
   "id": "de1c7b94-9673-410f-b2f0-b61a15056a16",
   "metadata": {},
   "outputs": [
    {
     "data": {
      "text/html": [
       "<div>\n",
       "<style scoped>\n",
       "    .dataframe tbody tr th:only-of-type {\n",
       "        vertical-align: middle;\n",
       "    }\n",
       "\n",
       "    .dataframe tbody tr th {\n",
       "        vertical-align: top;\n",
       "    }\n",
       "\n",
       "    .dataframe thead th {\n",
       "        text-align: right;\n",
       "    }\n",
       "</style>\n",
       "<table border=\"1\" class=\"dataframe\">\n",
       "  <thead>\n",
       "    <tr style=\"text-align: right;\">\n",
       "      <th></th>\n",
       "      <th>YearsExperience</th>\n",
       "      <th>Age</th>\n",
       "      <th>Salary</th>\n",
       "    </tr>\n",
       "  </thead>\n",
       "  <tbody>\n",
       "    <tr>\n",
       "      <th>20</th>\n",
       "      <td>6.8</td>\n",
       "      <td>30.0</td>\n",
       "      <td>91738</td>\n",
       "    </tr>\n",
       "    <tr>\n",
       "      <th>21</th>\n",
       "      <td>7.1</td>\n",
       "      <td>30.0</td>\n",
       "      <td>98273</td>\n",
       "    </tr>\n",
       "    <tr>\n",
       "      <th>22</th>\n",
       "      <td>7.9</td>\n",
       "      <td>31.0</td>\n",
       "      <td>101302</td>\n",
       "    </tr>\n",
       "    <tr>\n",
       "      <th>23</th>\n",
       "      <td>8.2</td>\n",
       "      <td>32.0</td>\n",
       "      <td>113812</td>\n",
       "    </tr>\n",
       "    <tr>\n",
       "      <th>24</th>\n",
       "      <td>8.7</td>\n",
       "      <td>33.0</td>\n",
       "      <td>109431</td>\n",
       "    </tr>\n",
       "    <tr>\n",
       "      <th>25</th>\n",
       "      <td>9.0</td>\n",
       "      <td>34.0</td>\n",
       "      <td>105582</td>\n",
       "    </tr>\n",
       "    <tr>\n",
       "      <th>26</th>\n",
       "      <td>9.5</td>\n",
       "      <td>35.0</td>\n",
       "      <td>116969</td>\n",
       "    </tr>\n",
       "    <tr>\n",
       "      <th>27</th>\n",
       "      <td>9.6</td>\n",
       "      <td>36.0</td>\n",
       "      <td>112635</td>\n",
       "    </tr>\n",
       "    <tr>\n",
       "      <th>28</th>\n",
       "      <td>10.3</td>\n",
       "      <td>37.0</td>\n",
       "      <td>122391</td>\n",
       "    </tr>\n",
       "    <tr>\n",
       "      <th>29</th>\n",
       "      <td>10.5</td>\n",
       "      <td>38.0</td>\n",
       "      <td>121872</td>\n",
       "    </tr>\n",
       "  </tbody>\n",
       "</table>\n",
       "</div>"
      ],
      "text/plain": [
       "    YearsExperience   Age  Salary\n",
       "20              6.8  30.0   91738\n",
       "21              7.1  30.0   98273\n",
       "22              7.9  31.0  101302\n",
       "23              8.2  32.0  113812\n",
       "24              8.7  33.0  109431\n",
       "25              9.0  34.0  105582\n",
       "26              9.5  35.0  116969\n",
       "27              9.6  36.0  112635\n",
       "28             10.3  37.0  122391\n",
       "29             10.5  38.0  121872"
      ]
     },
     "execution_count": 125,
     "metadata": {},
     "output_type": "execute_result"
    }
   ],
   "source": [
    "csv.tail(10)"
   ]
  },
  {
   "cell_type": "code",
   "execution_count": 127,
   "id": "01bc1f53-fdee-4755-801c-56f8389e50f7",
   "metadata": {},
   "outputs": [],
   "source": [
    "weather.to_json(\"wth.json\")"
   ]
  },
  {
   "cell_type": "code",
   "execution_count": 129,
   "id": "999e3445-89d6-44f5-90c0-ae907663dedf",
   "metadata": {},
   "outputs": [],
   "source": [
    "jdata=pd.read_json(\"wth.json\")"
   ]
  },
  {
   "cell_type": "code",
   "execution_count": 130,
   "id": "c4481562-eabf-4218-8718-6a22b8f6432b",
   "metadata": {},
   "outputs": [
    {
     "data": {
      "text/html": [
       "<div>\n",
       "<style scoped>\n",
       "    .dataframe tbody tr th:only-of-type {\n",
       "        vertical-align: middle;\n",
       "    }\n",
       "\n",
       "    .dataframe tbody tr th {\n",
       "        vertical-align: top;\n",
       "    }\n",
       "\n",
       "    .dataframe thead th {\n",
       "        text-align: right;\n",
       "    }\n",
       "</style>\n",
       "<table border=\"1\" class=\"dataframe\">\n",
       "  <thead>\n",
       "    <tr style=\"text-align: right;\">\n",
       "      <th></th>\n",
       "      <th>Temp</th>\n",
       "      <th>Hum</th>\n",
       "      <th>Events</th>\n",
       "    </tr>\n",
       "  </thead>\n",
       "  <tbody>\n",
       "    <tr>\n",
       "      <th>0</th>\n",
       "      <td>12</td>\n",
       "      <td>45</td>\n",
       "      <td>Rainy</td>\n",
       "    </tr>\n",
       "    <tr>\n",
       "      <th>1</th>\n",
       "      <td>34</td>\n",
       "      <td>33</td>\n",
       "      <td>Sunny</td>\n",
       "    </tr>\n",
       "    <tr>\n",
       "      <th>2</th>\n",
       "      <td>56</td>\n",
       "      <td>12</td>\n",
       "      <td>Sunny</td>\n",
       "    </tr>\n",
       "    <tr>\n",
       "      <th>3</th>\n",
       "      <td>21</td>\n",
       "      <td>22</td>\n",
       "      <td>Cloudy</td>\n",
       "    </tr>\n",
       "    <tr>\n",
       "      <th>4</th>\n",
       "      <td>0</td>\n",
       "      <td>12</td>\n",
       "      <td>Snow</td>\n",
       "    </tr>\n",
       "  </tbody>\n",
       "</table>\n",
       "</div>"
      ],
      "text/plain": [
       "   Temp  Hum  Events\n",
       "0    12   45   Rainy\n",
       "1    34   33   Sunny\n",
       "2    56   12   Sunny\n",
       "3    21   22  Cloudy\n",
       "4     0   12    Snow"
      ]
     },
     "execution_count": 130,
     "metadata": {},
     "output_type": "execute_result"
    }
   ],
   "source": [
    "jdata"
   ]
  },
  {
   "cell_type": "code",
   "execution_count": 132,
   "id": "a7f3d9f8-de93-4ee9-8cd8-c4357f062c9d",
   "metadata": {},
   "outputs": [
    {
     "data": {
      "text/plain": [
       "pandas.core.frame.DataFrame"
      ]
     },
     "execution_count": 132,
     "metadata": {},
     "output_type": "execute_result"
    }
   ],
   "source": [
    "type(jdata)"
   ]
  },
  {
   "cell_type": "code",
   "execution_count": 137,
   "id": "017b2bd1-2b48-46a5-9d92-30f8fbea1334",
   "metadata": {},
   "outputs": [
    {
     "data": {
      "text/html": [
       "<div>\n",
       "<style scoped>\n",
       "    .dataframe tbody tr th:only-of-type {\n",
       "        vertical-align: middle;\n",
       "    }\n",
       "\n",
       "    .dataframe tbody tr th {\n",
       "        vertical-align: top;\n",
       "    }\n",
       "\n",
       "    .dataframe thead th {\n",
       "        text-align: right;\n",
       "    }\n",
       "</style>\n",
       "<table border=\"1\" class=\"dataframe\">\n",
       "  <thead>\n",
       "    <tr style=\"text-align: right;\">\n",
       "      <th></th>\n",
       "      <th>Temp</th>\n",
       "      <th>Events</th>\n",
       "    </tr>\n",
       "  </thead>\n",
       "  <tbody>\n",
       "    <tr>\n",
       "      <th>0</th>\n",
       "      <td>12</td>\n",
       "      <td>Rainy</td>\n",
       "    </tr>\n",
       "    <tr>\n",
       "      <th>1</th>\n",
       "      <td>34</td>\n",
       "      <td>Sunny</td>\n",
       "    </tr>\n",
       "    <tr>\n",
       "      <th>2</th>\n",
       "      <td>56</td>\n",
       "      <td>Sunny</td>\n",
       "    </tr>\n",
       "    <tr>\n",
       "      <th>3</th>\n",
       "      <td>21</td>\n",
       "      <td>Cloudy</td>\n",
       "    </tr>\n",
       "    <tr>\n",
       "      <th>4</th>\n",
       "      <td>0</td>\n",
       "      <td>Snow</td>\n",
       "    </tr>\n",
       "  </tbody>\n",
       "</table>\n",
       "</div>"
      ],
      "text/plain": [
       "   Temp  Events\n",
       "0    12   Rainy\n",
       "1    34   Sunny\n",
       "2    56   Sunny\n",
       "3    21  Cloudy\n",
       "4     0    Snow"
      ]
     },
     "execution_count": 137,
     "metadata": {},
     "output_type": "execute_result"
    }
   ],
   "source": [
    " jdata[[\"Temp\",\"Events\"]]"
   ]
  },
  {
   "cell_type": "code",
   "execution_count": 142,
   "id": "00638e44-656a-4c9a-af69-a239bd019f2d",
   "metadata": {},
   "outputs": [
    {
     "data": {
      "text/html": [
       "<div>\n",
       "<style scoped>\n",
       "    .dataframe tbody tr th:only-of-type {\n",
       "        vertical-align: middle;\n",
       "    }\n",
       "\n",
       "    .dataframe tbody tr th {\n",
       "        vertical-align: top;\n",
       "    }\n",
       "\n",
       "    .dataframe thead th {\n",
       "        text-align: right;\n",
       "    }\n",
       "</style>\n",
       "<table border=\"1\" class=\"dataframe\">\n",
       "  <thead>\n",
       "    <tr style=\"text-align: right;\">\n",
       "      <th></th>\n",
       "      <th>Temp</th>\n",
       "      <th>Events</th>\n",
       "    </tr>\n",
       "  </thead>\n",
       "  <tbody>\n",
       "    <tr>\n",
       "      <th>1</th>\n",
       "      <td>34</td>\n",
       "      <td>Sunny</td>\n",
       "    </tr>\n",
       "    <tr>\n",
       "      <th>2</th>\n",
       "      <td>56</td>\n",
       "      <td>Sunny</td>\n",
       "    </tr>\n",
       "  </tbody>\n",
       "</table>\n",
       "</div>"
      ],
      "text/plain": [
       "   Temp Events\n",
       "1    34  Sunny\n",
       "2    56  Sunny"
      ]
     },
     "execution_count": 142,
     "metadata": {},
     "output_type": "execute_result"
    }
   ],
   "source": [
    "jdata.loc[1:2,[\"Temp\",\"Events\"]]"
   ]
  },
  {
   "cell_type": "code",
   "execution_count": 146,
   "id": "b9a54015-652e-47c7-9659-9dd1d4d69a8f",
   "metadata": {},
   "outputs": [
    {
     "data": {
      "text/plain": [
       "Temp         0\n",
       "Hum         12\n",
       "Events    Snow\n",
       "Name: 4, dtype: object"
      ]
     },
     "execution_count": 146,
     "metadata": {},
     "output_type": "execute_result"
    }
   ],
   "source": [
    "jdata.loc[4]"
   ]
  },
  {
   "cell_type": "code",
   "execution_count": 153,
   "id": "8c68510c-f552-46fe-a33e-a7c653c04792",
   "metadata": {},
   "outputs": [
    {
     "data": {
      "text/html": [
       "<div>\n",
       "<style scoped>\n",
       "    .dataframe tbody tr th:only-of-type {\n",
       "        vertical-align: middle;\n",
       "    }\n",
       "\n",
       "    .dataframe tbody tr th {\n",
       "        vertical-align: top;\n",
       "    }\n",
       "\n",
       "    .dataframe thead th {\n",
       "        text-align: right;\n",
       "    }\n",
       "</style>\n",
       "<table border=\"1\" class=\"dataframe\">\n",
       "  <thead>\n",
       "    <tr style=\"text-align: right;\">\n",
       "      <th></th>\n",
       "      <th>Temp</th>\n",
       "      <th>Hum</th>\n",
       "    </tr>\n",
       "  </thead>\n",
       "  <tbody>\n",
       "    <tr>\n",
       "      <th>0</th>\n",
       "      <td>12</td>\n",
       "      <td>45</td>\n",
       "    </tr>\n",
       "    <tr>\n",
       "      <th>1</th>\n",
       "      <td>34</td>\n",
       "      <td>33</td>\n",
       "    </tr>\n",
       "    <tr>\n",
       "      <th>2</th>\n",
       "      <td>56</td>\n",
       "      <td>12</td>\n",
       "    </tr>\n",
       "  </tbody>\n",
       "</table>\n",
       "</div>"
      ],
      "text/plain": [
       "   Temp  Hum\n",
       "0    12   45\n",
       "1    34   33\n",
       "2    56   12"
      ]
     },
     "execution_count": 153,
     "metadata": {},
     "output_type": "execute_result"
    }
   ],
   "source": [
    "jdata.iloc[0:3,0:2]"
   ]
  },
  {
   "cell_type": "code",
   "execution_count": 158,
   "id": "823d6ae8-40f4-48fb-8c51-131732b27bac",
   "metadata": {},
   "outputs": [
    {
     "data": {
      "text/html": [
       "<div>\n",
       "<style scoped>\n",
       "    .dataframe tbody tr th:only-of-type {\n",
       "        vertical-align: middle;\n",
       "    }\n",
       "\n",
       "    .dataframe tbody tr th {\n",
       "        vertical-align: top;\n",
       "    }\n",
       "\n",
       "    .dataframe thead th {\n",
       "        text-align: right;\n",
       "    }\n",
       "</style>\n",
       "<table border=\"1\" class=\"dataframe\">\n",
       "  <thead>\n",
       "    <tr style=\"text-align: right;\">\n",
       "      <th></th>\n",
       "      <th>Temp</th>\n",
       "      <th>Hum</th>\n",
       "      <th>Events</th>\n",
       "    </tr>\n",
       "  </thead>\n",
       "  <tbody>\n",
       "    <tr>\n",
       "      <th>2</th>\n",
       "      <td>56</td>\n",
       "      <td>12</td>\n",
       "      <td>Sunny</td>\n",
       "    </tr>\n",
       "  </tbody>\n",
       "</table>\n",
       "</div>"
      ],
      "text/plain": [
       "   Temp  Hum Events\n",
       "2    56   12  Sunny"
      ]
     },
     "execution_count": 158,
     "metadata": {},
     "output_type": "execute_result"
    }
   ],
   "source": [
    "jdata[jdata[\"Temp\"]>45]"
   ]
  },
  {
   "cell_type": "code",
   "execution_count": 159,
   "id": "4eda8e75-65ae-4a9a-8f91-d5c0375a8e05",
   "metadata": {},
   "outputs": [
    {
     "data": {
      "text/html": [
       "<div>\n",
       "<style scoped>\n",
       "    .dataframe tbody tr th:only-of-type {\n",
       "        vertical-align: middle;\n",
       "    }\n",
       "\n",
       "    .dataframe tbody tr th {\n",
       "        vertical-align: top;\n",
       "    }\n",
       "\n",
       "    .dataframe thead th {\n",
       "        text-align: right;\n",
       "    }\n",
       "</style>\n",
       "<table border=\"1\" class=\"dataframe\">\n",
       "  <thead>\n",
       "    <tr style=\"text-align: right;\">\n",
       "      <th></th>\n",
       "      <th>Temp</th>\n",
       "      <th>Hum</th>\n",
       "    </tr>\n",
       "  </thead>\n",
       "  <tbody>\n",
       "    <tr>\n",
       "      <th>count</th>\n",
       "      <td>5.000000</td>\n",
       "      <td>5.000000</td>\n",
       "    </tr>\n",
       "    <tr>\n",
       "      <th>mean</th>\n",
       "      <td>24.600000</td>\n",
       "      <td>24.800000</td>\n",
       "    </tr>\n",
       "    <tr>\n",
       "      <th>std</th>\n",
       "      <td>21.512787</td>\n",
       "      <td>14.237275</td>\n",
       "    </tr>\n",
       "    <tr>\n",
       "      <th>min</th>\n",
       "      <td>0.000000</td>\n",
       "      <td>12.000000</td>\n",
       "    </tr>\n",
       "    <tr>\n",
       "      <th>25%</th>\n",
       "      <td>12.000000</td>\n",
       "      <td>12.000000</td>\n",
       "    </tr>\n",
       "    <tr>\n",
       "      <th>50%</th>\n",
       "      <td>21.000000</td>\n",
       "      <td>22.000000</td>\n",
       "    </tr>\n",
       "    <tr>\n",
       "      <th>75%</th>\n",
       "      <td>34.000000</td>\n",
       "      <td>33.000000</td>\n",
       "    </tr>\n",
       "    <tr>\n",
       "      <th>max</th>\n",
       "      <td>56.000000</td>\n",
       "      <td>45.000000</td>\n",
       "    </tr>\n",
       "  </tbody>\n",
       "</table>\n",
       "</div>"
      ],
      "text/plain": [
       "            Temp        Hum\n",
       "count   5.000000   5.000000\n",
       "mean   24.600000  24.800000\n",
       "std    21.512787  14.237275\n",
       "min     0.000000  12.000000\n",
       "25%    12.000000  12.000000\n",
       "50%    21.000000  22.000000\n",
       "75%    34.000000  33.000000\n",
       "max    56.000000  45.000000"
      ]
     },
     "execution_count": 159,
     "metadata": {},
     "output_type": "execute_result"
    }
   ],
   "source": [
    "jdata.describe()"
   ]
  },
  {
   "cell_type": "code",
   "execution_count": 160,
   "id": "916902c1-9ac6-40ac-81b6-c60bd19055c3",
   "metadata": {},
   "outputs": [],
   "source": [
    "list23=[\n",
    "    [12,45,\"Rainy\",np.nan],\n",
    "    [34,33,\"Sunny\",23]\n",
    "]"
   ]
  },
  {
   "cell_type": "code",
   "execution_count": 162,
   "id": "9bf705a3-0d7b-4daa-be7d-e7f6ea546b0a",
   "metadata": {},
   "outputs": [
    {
     "data": {
      "text/html": [
       "<div>\n",
       "<style scoped>\n",
       "    .dataframe tbody tr th:only-of-type {\n",
       "        vertical-align: middle;\n",
       "    }\n",
       "\n",
       "    .dataframe tbody tr th {\n",
       "        vertical-align: top;\n",
       "    }\n",
       "\n",
       "    .dataframe thead th {\n",
       "        text-align: right;\n",
       "    }\n",
       "</style>\n",
       "<table border=\"1\" class=\"dataframe\">\n",
       "  <thead>\n",
       "    <tr style=\"text-align: right;\">\n",
       "      <th></th>\n",
       "      <th>0</th>\n",
       "      <th>1</th>\n",
       "      <th>2</th>\n",
       "      <th>3</th>\n",
       "    </tr>\n",
       "  </thead>\n",
       "  <tbody>\n",
       "    <tr>\n",
       "      <th>0</th>\n",
       "      <td>12</td>\n",
       "      <td>45</td>\n",
       "      <td>Rainy</td>\n",
       "      <td>NaN</td>\n",
       "    </tr>\n",
       "    <tr>\n",
       "      <th>1</th>\n",
       "      <td>34</td>\n",
       "      <td>33</td>\n",
       "      <td>Sunny</td>\n",
       "      <td>23.0</td>\n",
       "    </tr>\n",
       "  </tbody>\n",
       "</table>\n",
       "</div>"
      ],
      "text/plain": [
       "    0   1      2     3\n",
       "0  12  45  Rainy   NaN\n",
       "1  34  33  Sunny  23.0"
      ]
     },
     "execution_count": 162,
     "metadata": {},
     "output_type": "execute_result"
    }
   ],
   "source": [
    "df7=pd.DataFrame(list23)\n",
    "df7"
   ]
  },
  {
   "cell_type": "code",
   "execution_count": 184,
   "id": "f5a0bc00-c752-4b45-8fb0-a64698993da0",
   "metadata": {},
   "outputs": [
    {
     "data": {
      "text/plain": [
       "0    0\n",
       "1    0\n",
       "2    0\n",
       "3    1\n",
       "dtype: int64"
      ]
     },
     "execution_count": 184,
     "metadata": {},
     "output_type": "execute_result"
    }
   ],
   "source": [
    "df7.isnull().sum()"
   ]
  },
  {
   "cell_type": "code",
   "execution_count": 188,
   "id": "79784c68-f54f-4ba6-ac4b-342782129368",
   "metadata": {},
   "outputs": [
    {
     "data": {
      "text/html": [
       "<div>\n",
       "<style scoped>\n",
       "    .dataframe tbody tr th:only-of-type {\n",
       "        vertical-align: middle;\n",
       "    }\n",
       "\n",
       "    .dataframe tbody tr th {\n",
       "        vertical-align: top;\n",
       "    }\n",
       "\n",
       "    .dataframe thead th {\n",
       "        text-align: right;\n",
       "    }\n",
       "</style>\n",
       "<table border=\"1\" class=\"dataframe\">\n",
       "  <thead>\n",
       "    <tr style=\"text-align: right;\">\n",
       "      <th></th>\n",
       "      <th>0</th>\n",
       "      <th>1</th>\n",
       "      <th>2</th>\n",
       "      <th>3</th>\n",
       "    </tr>\n",
       "  </thead>\n",
       "  <tbody>\n",
       "    <tr>\n",
       "      <th>0</th>\n",
       "      <td>12</td>\n",
       "      <td>45</td>\n",
       "      <td>Rainy</td>\n",
       "      <td>23.0</td>\n",
       "    </tr>\n",
       "    <tr>\n",
       "      <th>1</th>\n",
       "      <td>34</td>\n",
       "      <td>33</td>\n",
       "      <td>Sunny</td>\n",
       "      <td>23.0</td>\n",
       "    </tr>\n",
       "  </tbody>\n",
       "</table>\n",
       "</div>"
      ],
      "text/plain": [
       "    0   1      2     3\n",
       "0  12  45  Rainy  23.0\n",
       "1  34  33  Sunny  23.0"
      ]
     },
     "execution_count": 188,
     "metadata": {},
     "output_type": "execute_result"
    }
   ],
   "source": [
    "df7.fillna(df7[3].median())"
   ]
  },
  {
   "cell_type": "code",
   "execution_count": 189,
   "id": "4f7cf190-f12a-4d57-80a8-f5ae5c568f59",
   "metadata": {},
   "outputs": [
    {
     "data": {
      "text/html": [
       "<div>\n",
       "<style scoped>\n",
       "    .dataframe tbody tr th:only-of-type {\n",
       "        vertical-align: middle;\n",
       "    }\n",
       "\n",
       "    .dataframe tbody tr th {\n",
       "        vertical-align: top;\n",
       "    }\n",
       "\n",
       "    .dataframe thead th {\n",
       "        text-align: right;\n",
       "    }\n",
       "</style>\n",
       "<table border=\"1\" class=\"dataframe\">\n",
       "  <thead>\n",
       "    <tr style=\"text-align: right;\">\n",
       "      <th></th>\n",
       "      <th>0</th>\n",
       "      <th>1</th>\n",
       "      <th>2</th>\n",
       "      <th>3</th>\n",
       "    </tr>\n",
       "  </thead>\n",
       "  <tbody>\n",
       "    <tr>\n",
       "      <th>0</th>\n",
       "      <td>12</td>\n",
       "      <td>45</td>\n",
       "      <td>Rainy</td>\n",
       "      <td>0.0</td>\n",
       "    </tr>\n",
       "    <tr>\n",
       "      <th>1</th>\n",
       "      <td>34</td>\n",
       "      <td>33</td>\n",
       "      <td>Sunny</td>\n",
       "      <td>23.0</td>\n",
       "    </tr>\n",
       "  </tbody>\n",
       "</table>\n",
       "</div>"
      ],
      "text/plain": [
       "    0   1      2     3\n",
       "0  12  45  Rainy   0.0\n",
       "1  34  33  Sunny  23.0"
      ]
     },
     "execution_count": 189,
     "metadata": {},
     "output_type": "execute_result"
    }
   ],
   "source": [
    "df7.fillna(0)"
   ]
  },
  {
   "cell_type": "code",
   "execution_count": 192,
   "id": "0cb46c11-2862-4013-9958-de3e2f39055d",
   "metadata": {},
   "outputs": [],
   "source": [
    "df7[4]=[12,67] #to add new column"
   ]
  },
  {
   "cell_type": "code",
   "execution_count": 193,
   "id": "e18a0562-3617-4f82-b31b-e934e9dc3a0f",
   "metadata": {},
   "outputs": [
    {
     "data": {
      "text/html": [
       "<div>\n",
       "<style scoped>\n",
       "    .dataframe tbody tr th:only-of-type {\n",
       "        vertical-align: middle;\n",
       "    }\n",
       "\n",
       "    .dataframe tbody tr th {\n",
       "        vertical-align: top;\n",
       "    }\n",
       "\n",
       "    .dataframe thead th {\n",
       "        text-align: right;\n",
       "    }\n",
       "</style>\n",
       "<table border=\"1\" class=\"dataframe\">\n",
       "  <thead>\n",
       "    <tr style=\"text-align: right;\">\n",
       "      <th></th>\n",
       "      <th>0</th>\n",
       "      <th>1</th>\n",
       "      <th>2</th>\n",
       "      <th>3</th>\n",
       "      <th>4</th>\n",
       "    </tr>\n",
       "  </thead>\n",
       "  <tbody>\n",
       "    <tr>\n",
       "      <th>0</th>\n",
       "      <td>12</td>\n",
       "      <td>45</td>\n",
       "      <td>Rainy</td>\n",
       "      <td>NaN</td>\n",
       "      <td>12</td>\n",
       "    </tr>\n",
       "    <tr>\n",
       "      <th>1</th>\n",
       "      <td>34</td>\n",
       "      <td>33</td>\n",
       "      <td>Sunny</td>\n",
       "      <td>23.0</td>\n",
       "      <td>67</td>\n",
       "    </tr>\n",
       "  </tbody>\n",
       "</table>\n",
       "</div>"
      ],
      "text/plain": [
       "    0   1      2     3   4\n",
       "0  12  45  Rainy   NaN  12\n",
       "1  34  33  Sunny  23.0  67"
      ]
     },
     "execution_count": 193,
     "metadata": {},
     "output_type": "execute_result"
    }
   ],
   "source": [
    "df7"
   ]
  }
 ],
 "metadata": {
  "kernelspec": {
   "display_name": "Python 3 (ipykernel)",
   "language": "python",
   "name": "python3"
  },
  "language_info": {
   "codemirror_mode": {
    "name": "ipython",
    "version": 3
   },
   "file_extension": ".py",
   "mimetype": "text/x-python",
   "name": "python",
   "nbconvert_exporter": "python",
   "pygments_lexer": "ipython3",
   "version": "3.12.7"
  }
 },
 "nbformat": 4,
 "nbformat_minor": 5
}
