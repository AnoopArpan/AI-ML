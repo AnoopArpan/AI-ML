{
 "cells": [
  {
   "cell_type": "code",
   "execution_count": 15,
   "id": "6559ed69-1e8c-4511-9e66-47dca17bb600",
   "metadata": {},
   "outputs": [],
   "source": [
    "import numpy as np\n",
    "import pandas as pd\n",
    "import matplotlib.pyplot as plt\n",
    "import os\n",
    "import cv2\n",
    "import pickle"
   ]
  },
  {
   "cell_type": "code",
   "execution_count": 16,
   "id": "2b809400-3201-45b1-affe-8331cac476fc",
   "metadata": {},
   "outputs": [],
   "source": [
    "def detect_face(frame):\n",
    "    detector=cv2.CascadeClassifier(\"haarcascade_frontalface_alt.xml\")\n",
    "    face=detector.detectMultiScale(frame,1.2)\n",
    "    return face\n",
    "def gray_scale(image):\n",
    "    img=cv2.cvtColor(image,cv2.COLOR_BGR2GRAY)\n",
    "    return img\n",
    "def cut_face(image,face_coords):\n",
    "    faces=[]\n",
    "    for (x,y,w,h) in face_coords:\n",
    "        img=image[y:y+h,x:x+w]\n",
    "        faces.append(img)\n",
    "    return faces\n",
    "def normalize_intensity(images):\n",
    "    normalize_image=[]\n",
    "    for image in images:\n",
    "        img=cv2.equalizeHist(image)\n",
    "        normalize_image.append(img)\n",
    "    return normalize_image\n",
    "def resize(images,size=(80,100)):\n",
    "    resized_images=[]\n",
    "    for img in images:\n",
    "        image=cv2.resize(img,size)\n",
    "        resized_images.append(image)\n",
    "    return resized_images\n",
    "def pipeline(image,face_coords):\n",
    "    faces=cut_face(image,face_coords)\n",
    "    faces=normalize_intensity(faces)\n",
    "    faces=resize(faces)\n",
    "    return faces\n",
    "def plot_fxn(image,title=\"\"):\n",
    "    if image.shape==3:\n",
    "        cv2.cvtColor(image,cv2.COLOR_BGR2RGB)\n",
    "    plt.axis(\"off\")\n",
    "    plt.title(title)\n",
    "    plt.imshow(image,cmap=\"gray\")\n",
    "    plt.show()\n",
    "def draw_rectangle(image,coords):\n",
    "    for (x,y,w,h) in coords:\n",
    "        cv2.rectangle(image,(x,y),(x+w,y+h),(0,0,225),2)\n"
   ]
  },
  {
   "cell_type": "code",
   "execution_count": 17,
   "id": "5070adf8-3a61-4263-9122-889d0cba8377",
   "metadata": {},
   "outputs": [],
   "source": [
    "def collect_data():\n",
    "    images=[]\n",
    "    labels=[]\n",
    "    label_dic={}\n",
    "    people=[person for person in os.listdir(\"user_data1\")]\n",
    "    for i,person in enumerate(people):\n",
    "        label_dic[i]=person\n",
    "        for img in os.listdir(\"user_data1/\"+person):\n",
    "            ### if imgendswith==jpg :\n",
    "            img=cv2.imread(\"user_data1/\"+person+\"/\"+img,0)\n",
    "           ### img = cv2.resize(img, (64, 64))  ### used resize here for fast processing of image\n",
    "            images.append(img)\n",
    "            labels.append(i)\n",
    "    return (images,labels,label_dic) "
   ]
  },
  {
   "cell_type": "code",
   "execution_count": 18,
   "id": "6bc72c93-a492-45f0-8a87-6a3355148eb1",
   "metadata": {},
   "outputs": [],
   "source": [
    "_,_,label_dic=collect_data()"
   ]
  },
  {
   "cell_type": "code",
   "execution_count": 19,
   "id": "b833a158-a27f-4095-873e-6cc44e1e1961",
   "metadata": {},
   "outputs": [
    {
     "data": {
      "text/plain": [
       "{0: 'anoop arpan', 1: 'unknown'}"
      ]
     },
     "execution_count": 19,
     "metadata": {},
     "output_type": "execute_result"
    }
   ],
   "source": [
    "label_dic"
   ]
  },
  {
   "cell_type": "markdown",
   "id": "618b31a6-f3ad-48ae-8f31-26a9a9c69f0a",
   "metadata": {},
   "source": [
    "### Load model"
   ]
  },
  {
   "cell_type": "code",
   "execution_count": 20,
   "id": "d8a53ab9-bda3-4f58-a7f5-f42e60c3eb39",
   "metadata": {},
   "outputs": [],
   "source": [
    "sc=pickle.load(open(\"Scaling_model.pkl\",\"rb\"))\n",
    "pca=pickle.load(open(\"pca_model.pkl\",\"rb\"))\n",
    "model=pickle.load(open(\"face_recog_model.pkl\",\"rb\"))"
   ]
  },
  {
   "cell_type": "markdown",
   "id": "8763480e-4bb3-4217-93af-989746b98463",
   "metadata": {},
   "source": [
    "### GUI Face Recogniation"
   ]
  },
  {
   "cell_type": "code",
   "execution_count": 21,
   "id": "47f774e2-8ec3-4069-8cbd-933f10ad34e7",
   "metadata": {},
   "outputs": [],
   "source": [
    "cam=cv2.VideoCapture(0)\n",
    "cv2.namedWindow(\"Face Recognition System!!!\")\n",
    "while True:\n",
    "    rect,frame=cam.read()\n",
    "    gray=gray_scale(frame)\n",
    "    face_coord=detect_face(gray)\n",
    "    if len(face_coord)>0:\n",
    "        faces=pipeline(gray,face_coord)\n",
    "        for i,face in enumerate(faces):\n",
    "            t=face.reshape(1,-1)\n",
    "            tst=sc.transform(t)\n",
    "            test=pca.transform(tst)\n",
    "            pred=model.predict(test)\n",
    "            name=label_dic[pred[0]]\n",
    "            ###print(name)\n",
    "            cv2.putText(frame,name,(face_coord[i][0],face_coord[i][0]-10),cv2.FONT_HERSHEY_PLAIN,3,(0,0,255))\n",
    "    else:\n",
    "        cv2.putText(frame,\"No Face Found!!!\",(5,60),cv2.FONT_HERSHEY_PLAIN,3,(0,0,255))\n",
    "    cv2.putText(frame,\"Enter 'esc' to exit\",(5,400),cv2.FONT_HERSHEY_PLAIN,3,(0,0,255))\n",
    "    draw_rectangle(frame,face_coord)\n",
    "    cv2.imshow(\"Face Recogination System!!!\",frame)\n",
    "    if cv2.waitKey(5)==27:\n",
    "        break\n",
    "cam.release()\n",
    "cv2.destroyAllWindows()"
   ]
  },
  {
   "cell_type": "code",
   "execution_count": null,
   "id": "c119125b-7c9d-485a-8c85-f86e9d65ed39",
   "metadata": {},
   "outputs": [],
   "source": []
  }
 ],
 "metadata": {
  "kernelspec": {
   "display_name": "Python 3 (ipykernel)",
   "language": "python",
   "name": "python3"
  },
  "language_info": {
   "codemirror_mode": {
    "name": "ipython",
    "version": 3
   },
   "file_extension": ".py",
   "mimetype": "text/x-python",
   "name": "python",
   "nbconvert_exporter": "python",
   "pygments_lexer": "ipython3",
   "version": "3.12.7"
  }
 },
 "nbformat": 4,
 "nbformat_minor": 5
}
