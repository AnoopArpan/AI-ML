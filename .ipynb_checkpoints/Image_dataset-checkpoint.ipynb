{
 "cells": [
  {
   "cell_type": "code",
   "execution_count": 1,
   "id": "5f6f7538-87f0-4840-a616-935c2d98c2f7",
   "metadata": {},
   "outputs": [],
   "source": [
    "import cv2\n",
    "import matplotlib.pyplot as plt\n",
    "import os"
   ]
  },
  {
   "cell_type": "markdown",
   "id": "14e498f9-ca3b-489e-b3d7-f2fa67d68155",
   "metadata": {},
   "source": [
    "### Detect face"
   ]
  },
  {
   "cell_type": "code",
   "execution_count": 2,
   "id": "476df18c-7809-49f0-b1c9-cbc6ed03d2d3",
   "metadata": {},
   "outputs": [],
   "source": [
    "def detect_face(frame):\n",
    "    detector=cv2.CascadeClassifier(\"haarcascade_frontalface_alt.xml\")\n",
    "    face=detector.detectMultiScale(frame,1.2)\n",
    "    return face"
   ]
  },
  {
   "cell_type": "markdown",
   "id": "a4ef0765-80a2-426f-b132-0b13592ad79b",
   "metadata": {},
   "source": [
    "### Gray scale"
   ]
  },
  {
   "cell_type": "code",
   "execution_count": 3,
   "id": "8f52bb71-ce00-478a-ad09-101f50d6ac69",
   "metadata": {},
   "outputs": [],
   "source": [
    "def gray_scale(image):\n",
    "    img=cv2.cvtColor(image,cv2.COLOR_BGR2GRAY)\n",
    "    return img"
   ]
  },
  {
   "cell_type": "markdown",
   "id": "60bd4b32-8f10-46f2-84e1-24c3a16dd4e3",
   "metadata": {},
   "source": [
    "### Cut face"
   ]
  },
  {
   "cell_type": "code",
   "execution_count": 4,
   "id": "1381deb3-0548-4032-9ffa-918ac4fafe47",
   "metadata": {},
   "outputs": [],
   "source": [
    "def cut_face(image,face_coords):\n",
    "    faces=[]\n",
    "    for (x,y,w,h) in face_coords:\n",
    "        img=image[y:y+h,x:x+w]\n",
    "        faces.append(img)\n",
    "    return faces"
   ]
  },
  {
   "cell_type": "markdown",
   "id": "f893f1c7-5ce2-4c36-b870-afa638afedaa",
   "metadata": {},
   "source": [
    "### Normalize intensity"
   ]
  },
  {
   "cell_type": "code",
   "execution_count": 5,
   "id": "af3a5054-48a8-476a-b83a-cb3ef4684715",
   "metadata": {},
   "outputs": [],
   "source": [
    "def normalize_intensity(images):\n",
    "    normalize_image=[]\n",
    "    for image in images:\n",
    "        img=cv2.equalizeHist(image)\n",
    "        normalize_image.append(img)\n",
    "    return normalize_image"
   ]
  },
  {
   "cell_type": "markdown",
   "id": "24811434-e6fc-49cf-9d38-074487e6d268",
   "metadata": {},
   "source": [
    "### Resize image"
   ]
  },
  {
   "cell_type": "code",
   "execution_count": 6,
   "id": "202a2998-e2f2-444f-9dc0-aed1fcf1f309",
   "metadata": {},
   "outputs": [],
   "source": [
    "def resize(images,size=(80,100)):\n",
    "    resized_images=[]\n",
    "    for img in images:\n",
    "        image=cv2.resize(img,size)\n",
    "        resized_images.append(image)\n",
    "    return resized_images"
   ]
  },
  {
   "cell_type": "markdown",
   "id": "b4e0322b-9d24-420a-9122-f04b1ae33f45",
   "metadata": {},
   "source": [
    "### Pipeline"
   ]
  },
  {
   "cell_type": "code",
   "execution_count": 7,
   "id": "96cf1666-0167-4952-ac9b-0c1186460563",
   "metadata": {},
   "outputs": [],
   "source": [
    "def pipeline(image,face_coords):\n",
    "    faces=cut_face(image,face_coords)\n",
    "    faces=normalize_intensity(faces)\n",
    "    faces=resize(faces)\n",
    "    return faces"
   ]
  },
  {
   "cell_type": "markdown",
   "id": "b854f846-3dbe-481e-a879-24be3ceadee2",
   "metadata": {},
   "source": [
    "### Plot fxn"
   ]
  },
  {
   "cell_type": "code",
   "execution_count": 8,
   "id": "4508bde5-1338-4f45-bbc8-9e75762d8e5b",
   "metadata": {},
   "outputs": [],
   "source": [
    "def plot_fxn(image,title=\"\"):\n",
    "    if image.shape==3:\n",
    "        cv2.cvtColor(image,cv2.COLOR_BGR2RGB)\n",
    "    plt.axis(\"off\")\n",
    "    plt.title(title)\n",
    "    plt.imshow(image,cmap=\"gray\")\n",
    "    plt.show()"
   ]
  },
  {
   "cell_type": "markdown",
   "id": "94c2e1c7-271c-4c93-9048-1e72a1807c53",
   "metadata": {},
   "source": [
    "### Draw rectangle"
   ]
  },
  {
   "cell_type": "code",
   "execution_count": 9,
   "id": "4c72f8d3-d646-44c3-8833-2aba1af6e03b",
   "metadata": {},
   "outputs": [],
   "source": [
    "def draw_rectangle(image,coords):\n",
    "    for (x,y,w,h) in coords:\n",
    "        cv2.rectangle(image,(x,y),(x+w,y+h),(0,0,225),2)"
   ]
  },
  {
   "cell_type": "code",
   "execution_count": 10,
   "id": "56bdb8fc-dc57-492b-9fa2-554af16b7be7",
   "metadata": {},
   "outputs": [],
   "source": [
    "from IPython.display import clear_output"
   ]
  },
  {
   "cell_type": "markdown",
   "id": "807f07d6-c7b5-4963-9f4c-32f8bf653f1c",
   "metadata": {},
   "source": [
    "### Lets create a dataset"
   ]
  },
  {
   "cell_type": "code",
   "execution_count": 11,
   "id": "a749dd56-3451-46d6-99dd-be4d7b054458",
   "metadata": {},
   "outputs": [
    {
     "data": {
      "image/png": "[encoded data removed]",
      "text/plain": [
       "<Figure size 640x480 with 1 Axes>"
      ]
     },
     "metadata": {},
     "output_type": "display_data"
    }
   ],
   "source": [
    "cam=cv2.VideoCapture(0)\n",
    "name=input(\"Enter folder name :\")\n",
    "no_sample=int(input(\"Enter sample numbers :\"))\n",
    "folder=\"user_data1/\"+name.lower()\n",
    "if os.path.exists(folder):\n",
    "    print(\"Folder with this name is already existed\")\n",
    "else:\n",
    "    os.mkdir(folder)\n",
    "    start_cap=False\n",
    "    sample=1\n",
    "    cv2.namedWindow(name,cv2.WINDOW_NORMAL)\n",
    "    while True:\n",
    "        rect,frame=cam.read()\n",
    "        gray=gray_scale(frame)\n",
    "        face_coord=detect_face(gray)\n",
    "        if len(face_coord)>0:\n",
    "            faces=pipeline(gray,face_coord)\n",
    "            img_name=str(sample)+\".jpg\"\n",
    "            cv2.imwrite(folder+\"/\"+img_name,faces[0])\n",
    "            plot_fxn(faces[0],\"IMAGE SAVED {}\".format(sample))\n",
    "            clear_output(wait=True)\n",
    "            if start_cap==True:\n",
    "                sample+=1\n",
    "        else:\n",
    "            print(\"NO FACE FOUND!!!\")\n",
    "        draw_rectangle(frame,face_coord)\n",
    "        cv2.imshow(name,frame)\n",
    "        key_press=cv2.waitKey(1)\n",
    "        if key_press==ord(\"c\"):\n",
    "            if start_cap==False:\n",
    "                start_cap=True\n",
    "        if key_press==ord(\"q\"):\n",
    "            break\n",
    "        if sample>no_sample:\n",
    "            break\n",
    "    cam.release()\n",
    "    cv2.destroyAllWindows()"
   ]
  },
  {
   "cell_type": "markdown",
   "id": "4402754e-1c5f-46ed-a7b2-bcf1e0855ad6",
   "metadata": {},
   "source": [
    "### let's create unknown person dataset"
   ]
  },
  {
   "cell_type": "code",
   "execution_count": 12,
   "id": "081ad8e6-2840-4aed-a261-710e4e251294",
   "metadata": {},
   "outputs": [],
   "source": [
    "path=\"C:/Users/Anoop Arpan/Downloads/archive (10)/lfw-deepfunneled/lfw-deepfunneled\"\n",
    "c=1"
   ]
  },
  {
   "cell_type": "code",
   "execution_count": 13,
   "id": "621bba1c-513f-490f-8bf8-f8fe55f68aff",
   "metadata": {},
   "outputs": [
    {
     "name": "stdout",
     "output_type": "stream",
     "text": [
      "user_data1/unknown/1.jpg SAVED!!!\n",
      "user_data1/unknown/2.jpg SAVED!!!\n",
      "user_data1/unknown/3.jpg SAVED!!!\n",
      "user_data1/unknown/4.jpg SAVED!!!\n",
      "user_data1/unknown/5.jpg SAVED!!!\n",
      "user_data1/unknown/6.jpg SAVED!!!\n",
      "user_data1/unknown/7.jpg SAVED!!!\n",
      "user_data1/unknown/8.jpg SAVED!!!\n",
      "user_data1/unknown/9.jpg SAVED!!!\n",
      "user_data1/unknown/10.jpg SAVED!!!\n",
      "user_data1/unknown/11.jpg SAVED!!!\n",
      "user_data1/unknown/12.jpg SAVED!!!\n",
      "user_data1/unknown/13.jpg SAVED!!!\n",
      "user_data1/unknown/14.jpg SAVED!!!\n",
      "user_data1/unknown/15.jpg SAVED!!!\n",
      "user_data1/unknown/16.jpg SAVED!!!\n",
      "user_data1/unknown/18.jpg SAVED!!!\n",
      "user_data1/unknown/19.jpg SAVED!!!\n",
      "user_data1/unknown/20.jpg SAVED!!!\n",
      "user_data1/unknown/22.jpg SAVED!!!\n",
      "user_data1/unknown/23.jpg SAVED!!!\n",
      "user_data1/unknown/24.jpg SAVED!!!\n",
      "user_data1/unknown/25.jpg SAVED!!!\n",
      "user_data1/unknown/26.jpg SAVED!!!\n",
      "user_data1/unknown/27.jpg SAVED!!!\n",
      "user_data1/unknown/28.jpg SAVED!!!\n",
      "user_data1/unknown/29.jpg SAVED!!!\n",
      "user_data1/unknown/30.jpg SAVED!!!\n",
      "user_data1/unknown/31.jpg SAVED!!!\n",
      "user_data1/unknown/32.jpg SAVED!!!\n",
      "user_data1/unknown/33.jpg SAVED!!!\n",
      "user_data1/unknown/34.jpg SAVED!!!\n",
      "user_data1/unknown/35.jpg SAVED!!!\n",
      "user_data1/unknown/36.jpg SAVED!!!\n",
      "user_data1/unknown/37.jpg SAVED!!!\n",
      "user_data1/unknown/38.jpg SAVED!!!\n",
      "user_data1/unknown/39.jpg SAVED!!!\n",
      "user_data1/unknown/40.jpg SAVED!!!\n",
      "user_data1/unknown/41.jpg SAVED!!!\n",
      "user_data1/unknown/42.jpg SAVED!!!\n",
      "user_data1/unknown/43.jpg SAVED!!!\n",
      "user_data1/unknown/44.jpg SAVED!!!\n",
      "user_data1/unknown/45.jpg SAVED!!!\n",
      "user_data1/unknown/46.jpg SAVED!!!\n",
      "user_data1/unknown/47.jpg SAVED!!!\n",
      "user_data1/unknown/49.jpg SAVED!!!\n",
      "user_data1/unknown/50.jpg SAVED!!!\n",
      "user_data1/unknown/51.jpg SAVED!!!\n",
      "user_data1/unknown/52.jpg SAVED!!!\n",
      "user_data1/unknown/53.jpg SAVED!!!\n",
      "user_data1/unknown/54.jpg SAVED!!!\n",
      "user_data1/unknown/55.jpg SAVED!!!\n",
      "user_data1/unknown/56.jpg SAVED!!!\n",
      "user_data1/unknown/57.jpg SAVED!!!\n",
      "user_data1/unknown/58.jpg SAVED!!!\n",
      "user_data1/unknown/59.jpg SAVED!!!\n",
      "user_data1/unknown/60.jpg SAVED!!!\n",
      "user_data1/unknown/61.jpg SAVED!!!\n",
      "user_data1/unknown/62.jpg SAVED!!!\n",
      "user_data1/unknown/63.jpg SAVED!!!\n",
      "user_data1/unknown/64.jpg SAVED!!!\n",
      "user_data1/unknown/65.jpg SAVED!!!\n",
      "user_data1/unknown/66.jpg SAVED!!!\n",
      "user_data1/unknown/67.jpg SAVED!!!\n",
      "user_data1/unknown/68.jpg SAVED!!!\n",
      "user_data1/unknown/69.jpg SAVED!!!\n",
      "user_data1/unknown/70.jpg SAVED!!!\n",
      "user_data1/unknown/71.jpg SAVED!!!\n",
      "user_data1/unknown/72.jpg SAVED!!!\n",
      "user_data1/unknown/73.jpg SAVED!!!\n",
      "user_data1/unknown/74.jpg SAVED!!!\n",
      "user_data1/unknown/75.jpg SAVED!!!\n",
      "user_data1/unknown/76.jpg SAVED!!!\n",
      "user_data1/unknown/77.jpg SAVED!!!\n",
      "user_data1/unknown/78.jpg SAVED!!!\n",
      "user_data1/unknown/79.jpg SAVED!!!\n",
      "user_data1/unknown/80.jpg SAVED!!!\n",
      "user_data1/unknown/81.jpg SAVED!!!\n",
      "user_data1/unknown/82.jpg SAVED!!!\n",
      "user_data1/unknown/83.jpg SAVED!!!\n",
      "user_data1/unknown/84.jpg SAVED!!!\n",
      "user_data1/unknown/85.jpg SAVED!!!\n",
      "user_data1/unknown/86.jpg SAVED!!!\n",
      "user_data1/unknown/87.jpg SAVED!!!\n",
      "user_data1/unknown/88.jpg SAVED!!!\n",
      "user_data1/unknown/89.jpg SAVED!!!\n",
      "user_data1/unknown/90.jpg SAVED!!!\n",
      "user_data1/unknown/91.jpg SAVED!!!\n",
      "user_data1/unknown/92.jpg SAVED!!!\n",
      "user_data1/unknown/93.jpg SAVED!!!\n",
      "user_data1/unknown/94.jpg SAVED!!!\n",
      "user_data1/unknown/95.jpg SAVED!!!\n",
      "user_data1/unknown/96.jpg SAVED!!!\n",
      "user_data1/unknown/97.jpg SAVED!!!\n",
      "user_data1/unknown/98.jpg SAVED!!!\n",
      "user_data1/unknown/99.jpg SAVED!!!\n",
      "user_data1/unknown/100.jpg SAVED!!!\n",
      "user_data1/unknown/101.jpg SAVED!!!\n",
      "user_data1/unknown/102.jpg SAVED!!!\n",
      "user_data1/unknown/103.jpg SAVED!!!\n",
      "user_data1/unknown/104.jpg SAVED!!!\n",
      "user_data1/unknown/105.jpg SAVED!!!\n",
      "user_data1/unknown/106.jpg SAVED!!!\n",
      "user_data1/unknown/107.jpg SAVED!!!\n",
      "user_data1/unknown/108.jpg SAVED!!!\n",
      "user_data1/unknown/109.jpg SAVED!!!\n",
      "user_data1/unknown/110.jpg SAVED!!!\n",
      "user_data1/unknown/111.jpg SAVED!!!\n",
      "user_data1/unknown/112.jpg SAVED!!!\n",
      "user_data1/unknown/113.jpg SAVED!!!\n",
      "user_data1/unknown/114.jpg SAVED!!!\n",
      "user_data1/unknown/115.jpg SAVED!!!\n",
      "user_data1/unknown/116.jpg SAVED!!!\n",
      "user_data1/unknown/117.jpg SAVED!!!\n",
      "user_data1/unknown/118.jpg SAVED!!!\n",
      "user_data1/unknown/119.jpg SAVED!!!\n",
      "user_data1/unknown/120.jpg SAVED!!!\n",
      "user_data1/unknown/121.jpg SAVED!!!\n",
      "user_data1/unknown/122.jpg SAVED!!!\n",
      "user_data1/unknown/123.jpg SAVED!!!\n",
      "user_data1/unknown/124.jpg SAVED!!!\n",
      "user_data1/unknown/125.jpg SAVED!!!\n",
      "user_data1/unknown/126.jpg SAVED!!!\n",
      "user_data1/unknown/127.jpg SAVED!!!\n",
      "user_data1/unknown/128.jpg SAVED!!!\n",
      "user_data1/unknown/129.jpg SAVED!!!\n",
      "user_data1/unknown/130.jpg SAVED!!!\n",
      "user_data1/unknown/131.jpg SAVED!!!\n",
      "user_data1/unknown/132.jpg SAVED!!!\n",
      "user_data1/unknown/133.jpg SAVED!!!\n",
      "user_data1/unknown/134.jpg SAVED!!!\n",
      "user_data1/unknown/135.jpg SAVED!!!\n",
      "user_data1/unknown/136.jpg SAVED!!!\n",
      "user_data1/unknown/137.jpg SAVED!!!\n",
      "user_data1/unknown/138.jpg SAVED!!!\n",
      "user_data1/unknown/139.jpg SAVED!!!\n",
      "user_data1/unknown/140.jpg SAVED!!!\n",
      "user_data1/unknown/141.jpg SAVED!!!\n",
      "user_data1/unknown/142.jpg SAVED!!!\n",
      "user_data1/unknown/143.jpg SAVED!!!\n",
      "user_data1/unknown/144.jpg SAVED!!!\n",
      "user_data1/unknown/145.jpg SAVED!!!\n",
      "user_data1/unknown/146.jpg SAVED!!!\n",
      "user_data1/unknown/147.jpg SAVED!!!\n",
      "user_data1/unknown/148.jpg SAVED!!!\n",
      "user_data1/unknown/149.jpg SAVED!!!\n",
      "user_data1/unknown/150.jpg SAVED!!!\n",
      "user_data1/unknown/151.jpg SAVED!!!\n",
      "user_data1/unknown/152.jpg SAVED!!!\n",
      "user_data1/unknown/153.jpg SAVED!!!\n",
      "user_data1/unknown/154.jpg SAVED!!!\n",
      "user_data1/unknown/155.jpg SAVED!!!\n",
      "user_data1/unknown/156.jpg SAVED!!!\n",
      "user_data1/unknown/157.jpg SAVED!!!\n",
      "user_data1/unknown/158.jpg SAVED!!!\n",
      "user_data1/unknown/159.jpg SAVED!!!\n",
      "user_data1/unknown/160.jpg SAVED!!!\n",
      "user_data1/unknown/161.jpg SAVED!!!\n",
      "user_data1/unknown/162.jpg SAVED!!!\n",
      "user_data1/unknown/163.jpg SAVED!!!\n",
      "user_data1/unknown/164.jpg SAVED!!!\n",
      "user_data1/unknown/165.jpg SAVED!!!\n",
      "user_data1/unknown/166.jpg SAVED!!!\n",
      "user_data1/unknown/167.jpg SAVED!!!\n",
      "user_data1/unknown/168.jpg SAVED!!!\n",
      "user_data1/unknown/169.jpg SAVED!!!\n",
      "user_data1/unknown/170.jpg SAVED!!!\n",
      "user_data1/unknown/171.jpg SAVED!!!\n",
      "user_data1/unknown/172.jpg SAVED!!!\n",
      "user_data1/unknown/173.jpg SAVED!!!\n",
      "user_data1/unknown/174.jpg SAVED!!!\n",
      "user_data1/unknown/175.jpg SAVED!!!\n",
      "user_data1/unknown/176.jpg SAVED!!!\n",
      "user_data1/unknown/177.jpg SAVED!!!\n",
      "user_data1/unknown/178.jpg SAVED!!!\n",
      "user_data1/unknown/180.jpg SAVED!!!\n",
      "user_data1/unknown/181.jpg SAVED!!!\n",
      "user_data1/unknown/182.jpg SAVED!!!\n",
      "user_data1/unknown/183.jpg SAVED!!!\n",
      "user_data1/unknown/184.jpg SAVED!!!\n",
      "user_data1/unknown/185.jpg SAVED!!!\n",
      "user_data1/unknown/186.jpg SAVED!!!\n",
      "user_data1/unknown/187.jpg SAVED!!!\n",
      "user_data1/unknown/188.jpg SAVED!!!\n",
      "user_data1/unknown/189.jpg SAVED!!!\n",
      "user_data1/unknown/190.jpg SAVED!!!\n",
      "user_data1/unknown/192.jpg SAVED!!!\n",
      "user_data1/unknown/193.jpg SAVED!!!\n",
      "user_data1/unknown/194.jpg SAVED!!!\n",
      "user_data1/unknown/195.jpg SAVED!!!\n",
      "user_data1/unknown/196.jpg SAVED!!!\n",
      "user_data1/unknown/197.jpg SAVED!!!\n",
      "user_data1/unknown/198.jpg SAVED!!!\n",
      "user_data1/unknown/199.jpg SAVED!!!\n"
     ]
    }
   ],
   "source": [
    "for person_name in os.listdir(path)[:200]:\n",
    "    for image in os.listdir(path+\"/\"+person_name)[:1]:\n",
    "        img=cv2.imread(path+\"/\"+person_name+\"/\"+image,0)\n",
    "        face_coord=detect_face(img)\n",
    "        if len(face_coord)>0:\n",
    "            imge=pipeline(img,face_coord)\n",
    "            img_save=\"user_data1/unknown/\"+str(c)+\".jpg\"\n",
    "            cv2.imwrite(img_save,imge[0])\n",
    "            print(img_save,\"SAVED!!!\")\n",
    "        c+=1\n",
    "  "
   ]
  },
  {
   "cell_type": "code",
   "execution_count": null,
   "id": "34f2f816-a39c-4163-8d66-3ca5e40ec3be",
   "metadata": {},
   "outputs": [],
   "source": []
  }
 ],
 "metadata": {
  "kernelspec": {
   "display_name": "Python 3 (ipykernel)",
   "language": "python",
   "name": "python3"
  },
  "language_info": {
   "codemirror_mode": {
    "name": "ipython",
    "version": 3
   },
   "file_extension": ".py",
   "mimetype": "text/x-python",
   "name": "python",
   "nbconvert_exporter": "python",
   "pygments_lexer": "ipython3",
   "version": "3.12.7"
  }
 },
 "nbformat": 4,
 "nbformat_minor": 5
}
