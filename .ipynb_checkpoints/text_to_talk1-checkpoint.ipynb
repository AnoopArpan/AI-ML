{
 "cells": [
  {
   "cell_type": "code",
   "execution_count": null,
   "id": "f0f4d2dc-6fcb-46cf-9dbb-07eacce331a9",
   "metadata": {},
   "outputs": [
    {
     "name": "stdout",
     "output_type": "stream",
     "text": [
      "\n",
      "    Enter 1: to convert text into voice\n",
      "    Enter 2: to exit\n",
      "\n"
     ]
    },
    {
     "name": "stdin",
     "output_type": "stream",
     "text": [
      "Enter your choice:  1\n",
      "Enter text here:  madarchod bokachoda randi ka \n",
      "Enter language (e.g., 'en' for English, 'hi' for Hindi):  bengali\n"
     ]
    },
    {
     "name": "stdout",
     "output_type": "stream",
     "text": [
      "Error: Language not supported: bengali\n"
     ]
    },
    {
     "name": "stdin",
     "output_type": "stream",
     "text": [
      "Enter your choice:  1\n",
      "Enter text here:   madarchod bokachoda randi ka \n",
      "Enter language (e.g., 'en' for English, 'hi' for Hindi):  hi\n"
     ]
    }
   ],
   "source": [
    "def text_to_speech(text, lang):\n",
    "    from gtts import gTTS\n",
    "    import os\n",
    "\n",
    "    try:\n",
    "        tts = gTTS(text=text, lang=lang)\n",
    "        tts.save(\"output.mp3\")\n",
    "        os.system(\"start output.mp3\")  # use \"start\" for Windows; change for other OS if needed\n",
    "    except Exception as e:\n",
    "        print(\"Error:\", e)\n",
    "\n",
    "print(\"\"\"\n",
    "    Enter 1: to convert text into voice\n",
    "    Enter 2: to exit\n",
    "\"\"\")\n",
    "\n",
    "while True:\n",
    "    ch = input(\"Enter your choice: \")\n",
    "    if ch == \"1\":\n",
    "        text = input(\"Enter text here: \")\n",
    "        lang = input(\"Enter language (e.g., 'en' for English, 'hi' for Hindi): \")\n",
    "        text_to_speech(text, lang)\n",
    "    elif ch == \"2\":\n",
    "        print(\"Exiting... Goodbye!\")\n",
    "        break\n",
    "    else:\n",
    "        print(\"Invalid choice\")"
   ]
  },
  {
   "cell_type": "code",
   "execution_count": null,
   "id": "191604d6-b8ae-4041-b6b1-7ff74e4d9f94",
   "metadata": {},
   "outputs": [],
   "source": []
  }
 ],
 "metadata": {
  "kernelspec": {
   "display_name": "Python 3 (ipykernel)",
   "language": "python",
   "name": "python3"
  },
  "language_info": {
   "codemirror_mode": {
    "name": "ipython",
    "version": 3
   },
   "file_extension": ".py",
   "mimetype": "text/x-python",
   "name": "python",
   "nbconvert_exporter": "python",
   "pygments_lexer": "ipython3",
   "version": "3.13.5"
  }
 },
 "nbformat": 4,
 "nbformat_minor": 5
}
