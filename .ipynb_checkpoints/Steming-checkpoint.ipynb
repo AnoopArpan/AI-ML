{
 "cells": [
  {
   "cell_type": "code",
   "execution_count": 1,
   "id": "0bb96bf3-0453-4094-8dd0-444113243b6f",
   "metadata": {},
   "outputs": [
    {
     "name": "stdout",
     "output_type": "stream",
     "text": [
      "Requirement already satisfied: nltk in c:\\users\\anoop arpan\\anaconda3\\lib\\site-packages (3.9.1)\n",
      "Requirement already satisfied: click in c:\\users\\anoop arpan\\anaconda3\\lib\\site-packages (from nltk) (8.1.7)\n",
      "Requirement already satisfied: joblib in c:\\users\\anoop arpan\\anaconda3\\lib\\site-packages (from nltk) (1.4.2)\n",
      "Requirement already satisfied: regex>=2021.8.3 in c:\\users\\anoop arpan\\anaconda3\\lib\\site-packages (from nltk) (2024.9.11)\n",
      "Requirement already satisfied: tqdm in c:\\users\\anoop arpan\\anaconda3\\lib\\site-packages (from nltk) (4.66.5)\n",
      "Requirement already satisfied: colorama in c:\\users\\anoop arpan\\anaconda3\\lib\\site-packages (from click->nltk) (0.4.6)\n"
     ]
    }
   ],
   "source": [
    "!pip install nltk"
   ]
  },
  {
   "cell_type": "code",
   "execution_count": 4,
   "id": "5271d9de-db81-4497-8256-765f4d88cc47",
   "metadata": {},
   "outputs": [],
   "source": [
    "from nltk.stem import PorterStemmer"
   ]
  },
  {
   "cell_type": "code",
   "execution_count": 5,
   "id": "0f10cb9a-a8a6-4f99-b947-fb7fd3a59211",
   "metadata": {},
   "outputs": [],
   "source": [
    "port=PorterStemmer()"
   ]
  },
  {
   "cell_type": "code",
   "execution_count": 6,
   "id": "a8d6a35a-4c94-4b37-8e3b-18ae50a920f3",
   "metadata": {},
   "outputs": [],
   "source": [
    "words=[\"Running\",\"hiking\",\"priceless\",\"football\",\"played\",\"parties\"]"
   ]
  },
  {
   "cell_type": "code",
   "execution_count": 7,
   "id": "ae180e24-eaa3-4c64-8d04-b0a59b934d6b",
   "metadata": {},
   "outputs": [],
   "source": [
    "stemed=[]\n",
    "for word in words:\n",
    "    w=port.stem(word)\n",
    "    stemed.append(w)"
   ]
  },
  {
   "cell_type": "code",
   "execution_count": 8,
   "id": "9979e78f-7ad1-40e6-a2bb-6b4446cb7beb",
   "metadata": {},
   "outputs": [
    {
     "name": "stdout",
     "output_type": "stream",
     "text": [
      "original_list: ['Running', 'hiking', 'priceless', 'football', 'played', 'parties']\n"
     ]
    }
   ],
   "source": [
    "print(\"original_list:\",words)"
   ]
  },
  {
   "cell_type": "code",
   "execution_count": 9,
   "id": "a757e9f7-0386-4abd-816c-3c8b13917598",
   "metadata": {},
   "outputs": [
    {
     "name": "stdout",
     "output_type": "stream",
     "text": [
      "stemed_list: ['run', 'hike', 'priceless', 'footbal', 'play', 'parti']\n"
     ]
    }
   ],
   "source": [
    "print(\"stemed_list:\",stemed)"
   ]
  },
  {
   "cell_type": "code",
   "execution_count": 10,
   "id": "a0ea7dc1-62d1-4dc4-ae59-25cbdcf59e5b",
   "metadata": {},
   "outputs": [],
   "source": [
    "from nltk.stem import SnowballStemmer"
   ]
  },
  {
   "cell_type": "code",
   "execution_count": 12,
   "id": "0f6a425b-810a-4c15-8506-7930ab2cb870",
   "metadata": {},
   "outputs": [],
   "source": [
    "snow=SnowballStemmer(language=\"english\")"
   ]
  },
  {
   "cell_type": "code",
   "execution_count": 16,
   "id": "b235902b-5bcb-408e-bfbf-ab184f468d44",
   "metadata": {},
   "outputs": [],
   "source": [
    "words=[\"unhappy\",\"unlock\",\"undo\",\"misspell\",\"missunderstood\",\"misplace\"]"
   ]
  },
  {
   "cell_type": "code",
   "execution_count": 17,
   "id": "08ca955d-fc63-4fdb-bfe4-07133872e793",
   "metadata": {},
   "outputs": [],
   "source": [
    "stemed1=[]\n",
    "for word in words:\n",
    "    w=snow.stem(word)\n",
    "    stemed1.append(w)"
   ]
  },
  {
   "cell_type": "code",
   "execution_count": 18,
   "id": "6faf6be7-7e7a-4527-bfec-13b06a65554f",
   "metadata": {},
   "outputs": [
    {
     "name": "stdout",
     "output_type": "stream",
     "text": [
      "original_list: ['unhappy', 'unlock', 'undo', 'misspell', 'missunderstood', 'misplace']\n"
     ]
    }
   ],
   "source": [
    "print(\"original_list:\",words)"
   ]
  },
  {
   "cell_type": "code",
   "execution_count": 19,
   "id": "700511ba-40e0-4897-af43-0283912803cf",
   "metadata": {},
   "outputs": [
    {
     "name": "stdout",
     "output_type": "stream",
     "text": [
      "stemed_list: ['unhappi', 'unlock', 'undo', 'misspel', 'missunderstood', 'misplac']\n"
     ]
    }
   ],
   "source": [
    "print(\"stemed_list:\",stemed1)"
   ]
  },
  {
   "cell_type": "code",
   "execution_count": null,
   "id": "af75de95-a31f-4b0e-8817-f533ccc0bc9a",
   "metadata": {},
   "outputs": [],
   "source": []
  }
 ],
 "metadata": {
  "kernelspec": {
   "display_name": "Python 3 (ipykernel)",
   "language": "python",
   "name": "python3"
  },
  "language_info": {
   "codemirror_mode": {
    "name": "ipython",
    "version": 3
   },
   "file_extension": ".py",
   "mimetype": "text/x-python",
   "name": "python",
   "nbconvert_exporter": "python",
   "pygments_lexer": "ipython3",
   "version": "3.12.7"
  }
 },
 "nbformat": 4,
 "nbformat_minor": 5
}
