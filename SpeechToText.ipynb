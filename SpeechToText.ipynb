{
 "cells": [
  {
   "cell_type": "code",
   "execution_count": 4,
   "id": "304f5401-c5b0-4b78-860e-cf5b29742047",
   "metadata": {},
   "outputs": [
    {
     "name": "stdout",
     "output_type": "stream",
     "text": [
      "Requirement already satisfied: SpeechRecognition in c:\\users\\anoop arpan\\anaconda3\\lib\\site-packages (3.14.3)\n",
      "Requirement already satisfied: typing-extensions in c:\\users\\anoop arpan\\anaconda3\\lib\\site-packages (from SpeechRecognition) (4.11.0)\n"
     ]
    }
   ],
   "source": [
    "!pip install SpeechRecognition"
   ]
  },
  {
   "cell_type": "code",
   "execution_count": 7,
   "id": "b3eaa60a-57bc-483f-aad4-144112d61be5",
   "metadata": {},
   "outputs": [
    {
     "name": "stdout",
     "output_type": "stream",
     "text": [
      "Collecting pyaudio\n",
      "  Downloading PyAudio-0.2.14-cp312-cp312-win_amd64.whl.metadata (2.7 kB)\n",
      "Downloading PyAudio-0.2.14-cp312-cp312-win_amd64.whl (164 kB)\n",
      "Installing collected packages: pyaudio\n",
      "Successfully installed pyaudio-0.2.14\n"
     ]
    }
   ],
   "source": [
    "!pip install pyaudio"
   ]
  },
  {
   "cell_type": "code",
   "execution_count": 5,
   "id": "de870449-a2ba-4ce1-83f3-524aa2f9de48",
   "metadata": {},
   "outputs": [],
   "source": [
    "import speech_recognition as sr"
   ]
  },
  {
   "cell_type": "code",
   "execution_count": 15,
   "id": "0e8d47de-8c09-4e4b-a000-adbd8f0a85f0",
   "metadata": {},
   "outputs": [
    {
     "name": "stdout",
     "output_type": "stream",
     "text": [
      "Please start speak....\n",
      "Your text is: hello hello hello hello\n"
     ]
    }
   ],
   "source": [
    "recog=sr.Recognizer()\n",
    "with sr.Microphone() as source:\n",
    "    print(\"Please start speak....\")\n",
    "    recog.adjust_for_ambient_noise(source)\n",
    "    audio=recog.listen(source,timeout=5,phrase_time_limit=10)\n",
    "    try:\n",
    "        text=recog.recognize_google(audio)\n",
    "        print(\"Your text is:\",text)\n",
    "    except sr.UnknownValueError:\n",
    "        print(\"Audio is not recognize!!!\")\n",
    "    except sr.WaitTimeoutError:\n",
    "        print(\"Timeout: Didn't get any audio input!!!\")"
   ]
  },
  {
   "cell_type": "markdown",
   "id": "e1868797-f4e3-462d-b2d3-edaf3fc71559",
   "metadata": {},
   "source": [
    "### Sentiment Analysis"
   ]
  },
  {
   "cell_type": "code",
   "execution_count": 1,
   "id": "e1181ca5-211b-450c-b713-9a6c9f15a40e",
   "metadata": {},
   "outputs": [
    {
     "name": "stdout",
     "output_type": "stream",
     "text": [
      "Collecting textblob\n",
      "  Downloading textblob-0.19.0-py3-none-any.whl.metadata (4.4 kB)\n",
      "Requirement already satisfied: nltk>=3.9 in c:\\users\\anoop arpan\\anaconda3\\lib\\site-packages (from textblob) (3.9.1)\n",
      "Requirement already satisfied: click in c:\\users\\anoop arpan\\anaconda3\\lib\\site-packages (from nltk>=3.9->textblob) (8.1.7)\n",
      "Requirement already satisfied: joblib in c:\\users\\anoop arpan\\anaconda3\\lib\\site-packages (from nltk>=3.9->textblob) (1.4.2)\n",
      "Requirement already satisfied: regex>=2021.8.3 in c:\\users\\anoop arpan\\anaconda3\\lib\\site-packages (from nltk>=3.9->textblob) (2024.9.11)\n",
      "Requirement already satisfied: tqdm in c:\\users\\anoop arpan\\anaconda3\\lib\\site-packages (from nltk>=3.9->textblob) (4.66.5)\n",
      "Requirement already satisfied: colorama in c:\\users\\anoop arpan\\anaconda3\\lib\\site-packages (from click->nltk>=3.9->textblob) (0.4.6)\n",
      "Downloading textblob-0.19.0-py3-none-any.whl (624 kB)\n",
      "   ---------------------------------------- 0.0/624.3 kB ? eta -:--:--\n",
      "   ---------------------------------------- 624.3/624.3 kB 3.3 MB/s eta 0:00:00\n",
      "Installing collected packages: textblob\n",
      "Successfully installed textblob-0.19.0\n"
     ]
    }
   ],
   "source": [
    "!pip install textblob"
   ]
  },
  {
   "cell_type": "markdown",
   "id": "fccb4a0c-b558-4ab5-be29-507506e0bb76",
   "metadata": {},
   "source": [
    "### Sentence Segmentation"
   ]
  },
  {
   "cell_type": "code",
   "execution_count": 2,
   "id": "924b2c7c-1c45-46b7-b658-2407a55da490",
   "metadata": {},
   "outputs": [],
   "source": [
    "from textblob import TextBlob"
   ]
  },
  {
   "cell_type": "code",
   "execution_count": 7,
   "id": "c2eb6cda-e8d9-41b0-a5f2-1220003ac50b",
   "metadata": {},
   "outputs": [
    {
     "name": "stdout",
     "output_type": "stream",
     "text": [
      "Finished.\n"
     ]
    },
    {
     "name": "stderr",
     "output_type": "stream",
     "text": [
      "[nltk_data] Downloading package brown to C:\\Users\\Anoop\n",
      "[nltk_data]     Arpan\\AppData\\Roaming\\nltk_data...\n",
      "[nltk_data]   Unzipping corpora\\brown.zip.\n",
      "[nltk_data] Downloading package punkt_tab to C:\\Users\\Anoop\n",
      "[nltk_data]     Arpan\\AppData\\Roaming\\nltk_data...\n",
      "[nltk_data]   Unzipping tokenizers\\punkt_tab.zip.\n",
      "[nltk_data] Downloading package wordnet to C:\\Users\\Anoop\n",
      "[nltk_data]     Arpan\\AppData\\Roaming\\nltk_data...\n",
      "[nltk_data] Downloading package averaged_perceptron_tagger_eng to\n",
      "[nltk_data]     C:\\Users\\Anoop Arpan\\AppData\\Roaming\\nltk_data...\n",
      "[nltk_data]   Unzipping taggers\\averaged_perceptron_tagger_eng.zip.\n",
      "[nltk_data] Downloading package conll2000 to C:\\Users\\Anoop\n",
      "[nltk_data]     Arpan\\AppData\\Roaming\\nltk_data...\n",
      "[nltk_data]   Unzipping corpora\\conll2000.zip.\n",
      "[nltk_data] Downloading package movie_reviews to C:\\Users\\Anoop\n",
      "[nltk_data]     Arpan\\AppData\\Roaming\\nltk_data...\n",
      "[nltk_data]   Unzipping corpora\\movie_reviews.zip.\n"
     ]
    }
   ],
   "source": [
    "!python -m textblob.download_corpora"
   ]
  },
  {
   "cell_type": "code",
   "execution_count": 17,
   "id": "da179eb6-0e8d-438d-b7a3-5beb7c6563c7",
   "metadata": {},
   "outputs": [
    {
     "name": "stdin",
     "output_type": "stream",
     "text": [
      "Enter your text here... hello how are you. nuce to meet you\n"
     ]
    },
    {
     "name": "stdout",
     "output_type": "stream",
     "text": [
      "[Sentence(\"hello how are you.\"), Sentence(\"nuce to meet you\")]\n",
      "hello how are you. nice to meet you\n",
      "['hello', 'how', 'are', 'you', 'nuce', 'to', 'meet', 'you']\n",
      "[('hello', 'VB'), ('how', 'WRB'), ('are', 'VBP'), ('you', 'PRP'), ('nuce', 'NN'), ('to', 'TO'), ('meet', 'VB'), ('you', 'PRP')]\n"
     ]
    }
   ],
   "source": [
    "text=input(\"Enter your text here...\")\n",
    "blob=TextBlob(text)\n",
    "seg=blob.sentences\n",
    "corrt=blob.correct()\n",
    "token=blob.words\n",
    "pos=blob.tags\n",
    "print(seg)\n",
    "print(corrt)\n",
    "print(token)\n",
    "print(pos)"
   ]
  },
  {
   "cell_type": "markdown",
   "id": "add2da2c-ee9a-43f7-91ae-72cd5e468542",
   "metadata": {},
   "source": [
    "### Sentiment Analysis\n",
    "- sentiment ==> -1 to 1, subjectively====>0 and 1 "
   ]
  },
  {
   "cell_type": "code",
   "execution_count": 30,
   "id": "6b0010aa-7578-4bf4-a20e-680312dd6834",
   "metadata": {},
   "outputs": [
    {
     "name": "stdin",
     "output_type": "stream",
     "text": [
      "Enter your text here...\n",
      " good nigger\n"
     ]
    },
    {
     "name": "stdout",
     "output_type": "stream",
     "text": [
      "__________________sentiment analysis____________________________\n",
      "Sentiment: Positive\n",
      "Polarity: 0.7\n",
      "Subjectivity 0.6000000000000001\n"
     ]
    }
   ],
   "source": [
    "text=input(\"Enter your text here...\\n\")\n",
    "blob=TextBlob(text)\n",
    "\n",
    "pol=blob.sentiment.polarity     #-1 to 1\n",
    "sub=blob.sentiment.subjectivity #0 to 1\n",
    "if pol<0:\n",
    "    sentiment=\"Negative\"\n",
    "elif pol>0:\n",
    "    sentiment=\"Positive\"\n",
    "else:\n",
    "    sentiment=\"Neutral\"\n",
    "print(\"__________________sentiment analysis____________________________\")\n",
    "print(\"Sentiment:\",sentiment)\n",
    "print(\"Polarity:\",pol)\n",
    "print(\"Subjectivity\",sub)"
   ]
  },
  {
   "cell_type": "code",
   "execution_count": null,
   "id": "76ccd93b-54c7-45ff-b7e1-462e1e430fd0",
   "metadata": {},
   "outputs": [],
   "source": []
  },
  {
   "cell_type": "code",
   "execution_count": null,
   "id": "f4688921-7aac-417c-8dc6-69e7704d3efc",
   "metadata": {},
   "outputs": [],
   "source": []
  }
 ],
 "metadata": {
  "kernelspec": {
   "display_name": "Python 3 (ipykernel)",
   "language": "python",
   "name": "python3"
  },
  "language_info": {
   "codemirror_mode": {
    "name": "ipython",
    "version": 3
   },
   "file_extension": ".py",
   "mimetype": "text/x-python",
   "name": "python",
   "nbconvert_exporter": "python",
   "pygments_lexer": "ipython3",
   "version": "3.12.7"
  }
 },
 "nbformat": 4,
 "nbformat_minor": 5
}
